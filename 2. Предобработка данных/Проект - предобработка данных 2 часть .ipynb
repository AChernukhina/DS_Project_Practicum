{
 "cells": [
  {
   "cell_type": "markdown",
   "id": "b990db3d",
   "metadata": {},
   "source": [
    "<div style=\"border:solid Chocolate 2px; padding: 40px\">\n",
    "\n",
    "<b>Айгуль, привет!👋</b>\n",
    "\n",
    "Меня зовут Инна Малахова, я - ревьюер твоего проекта. Предлагаю общаться на \"ты\", но если тебе будет так не комфортно, пожалуйста, скажи об этом:) \n",
    "\n",
    "Пожалуйста, не удаляй и не редактируй мои комментарии - они будут полезны для нашей работы в случае повторной проверки проекта. \n",
    "\n",
    "    \n",
    "Если у тебя будут комментарии к моим, пожалуйста, пиши их:) Так же дай знать, если ты что-то меняешь в проекте по моим рекомендациям - оформи свои комментарии как тебе нравится, но чтобы они явно отличались от моих, чтобы не создавалась путаница😉\n",
    "\n",
    "Ты можешь найти мои комментарии, обозначенные <font color='green'>зеленым</font>, <font color='gold'>желтым</font> и <font color='red'>красным</font> цветами, например:\n",
    "\n",
    "<br/>\n",
    "\n",
    "<div class=\"alert alert-success\">\n",
    "<h2> Комментарий ревьюера <a class=\"tocSkip\"> </h2>\n",
    "\n",
    "<b>Все отлично!👍:</b> В случае, если решение на отдельном шаге является полностью правильным.\n",
    "</div>\n",
    "\n",
    "<br/>\n",
    "\n",
    "<div class=\"alert alert-warning\">\n",
    "    <h2> Комментарий ревьюера <a class=\"tocSkip\"> </h2>\n",
    "    \n",
    "<b>Некоторые замечания и рекомендации💡:</b> В случае, когда решение на отдельном шаге станет еще лучше, если внести небольшие коррективы.\n",
    "</div>\n",
    "\n",
    "\n",
    "<br/>\n",
    "<div class=\"alert alert-block alert-danger\">\n",
    "<h2> Комментарий ревьюера <a class=\"tocSkip\"></h2>\n",
    "\n",
    "    \n",
    "<b>На доработку🤔:</b>\n",
    " В случае, когда решение на отдельном шаге требует существенной переработки и внесения правок. Напоминаю, что проект не может быть принят с первого раза, если ревью содержит комментарии, рекомендующие доработать шаги.\n",
    "</div>\n",
    "    \n",
    "Увидев у тебя неточность, в первый раз я лишь укажу на ее наличие, чтобы ты сама могла найти и исправить ее.  Но если ты пока не справишься с такой задачей - при следующей проверке я дам более точную подсказку!:)"
   ]
  },
  {
   "cell_type": "markdown",
   "id": "bfa88e96",
   "metadata": {
    "deletable": false,
    "editable": false,
    "id": "c81daeeb"
   },
   "source": [
    "# Исследование надежности заемщиков\n"
   ]
  },
  {
   "cell_type": "markdown",
   "id": "b09fcff5",
   "metadata": {
    "deletable": false,
    "editable": false,
    "id": "827c20bf"
   },
   "source": [
    "Во второй части проекта вы выполните шаги 3 и 4. Их вручную проверит ревьюер.\n",
    "Чтобы вам не пришлось писать код заново для шагов 1 и 2, мы добавили авторские решения в ячейки с кодом. \n",
    "\n"
   ]
  },
  {
   "cell_type": "markdown",
   "id": "c438ed3a",
   "metadata": {
    "deletable": false,
    "editable": false,
    "id": "744d7639"
   },
   "source": [
    "## Откройте таблицу и изучите общую информацию о данных"
   ]
  },
  {
   "cell_type": "markdown",
   "id": "6e0144b8",
   "metadata": {
    "deletable": false,
    "editable": false,
    "id": "e7a14c31"
   },
   "source": [
    "**Задание 1. Импортируйте библиотеку pandas. Считайте данные из csv-файла в датафрейм и сохраните в переменную `data`. Путь к файлу:**\n",
    "\n",
    "`/datasets/data.csv`"
   ]
  },
  {
   "cell_type": "code",
   "execution_count": 1,
   "id": "16225d8d",
   "metadata": {
    "deletable": false,
    "id": "7bcf75c9"
   },
   "outputs": [],
   "source": [
    "import pandas as pd"
   ]
  },
  {
   "cell_type": "code",
   "execution_count": 2,
   "id": "39d60048",
   "metadata": {},
   "outputs": [],
   "source": [
    "data = pd.read_csv('datasets/data.csv')"
   ]
  },
  {
   "cell_type": "markdown",
   "id": "6fe821de",
   "metadata": {
    "deletable": false,
    "editable": false,
    "id": "b8038fe3"
   },
   "source": [
    "**Задание 2. Выведите первые 20 строчек датафрейма `data` на экран.**"
   ]
  },
  {
   "cell_type": "code",
   "execution_count": 3,
   "id": "cab817a4",
   "metadata": {
    "deletable": false,
    "id": "2a7cab99",
    "outputId": "1a8f3ef2-d323-4ec2-ddf7-89670b5944c4"
   },
   "outputs": [
    {
     "data": {
      "text/html": [
       "<div>\n",
       "<style scoped>\n",
       "    .dataframe tbody tr th:only-of-type {\n",
       "        vertical-align: middle;\n",
       "    }\n",
       "\n",
       "    .dataframe tbody tr th {\n",
       "        vertical-align: top;\n",
       "    }\n",
       "\n",
       "    .dataframe thead th {\n",
       "        text-align: right;\n",
       "    }\n",
       "</style>\n",
       "<table border=\"1\" class=\"dataframe\">\n",
       "  <thead>\n",
       "    <tr style=\"text-align: right;\">\n",
       "      <th></th>\n",
       "      <th>children</th>\n",
       "      <th>days_employed</th>\n",
       "      <th>dob_years</th>\n",
       "      <th>education</th>\n",
       "      <th>education_id</th>\n",
       "      <th>family_status</th>\n",
       "      <th>family_status_id</th>\n",
       "      <th>gender</th>\n",
       "      <th>income_type</th>\n",
       "      <th>debt</th>\n",
       "      <th>total_income</th>\n",
       "      <th>purpose</th>\n",
       "    </tr>\n",
       "  </thead>\n",
       "  <tbody>\n",
       "    <tr>\n",
       "      <th>0</th>\n",
       "      <td>1</td>\n",
       "      <td>-8437.673028</td>\n",
       "      <td>42</td>\n",
       "      <td>высшее</td>\n",
       "      <td>0</td>\n",
       "      <td>женат / замужем</td>\n",
       "      <td>0</td>\n",
       "      <td>F</td>\n",
       "      <td>сотрудник</td>\n",
       "      <td>0</td>\n",
       "      <td>253875.639453</td>\n",
       "      <td>покупка жилья</td>\n",
       "    </tr>\n",
       "    <tr>\n",
       "      <th>1</th>\n",
       "      <td>1</td>\n",
       "      <td>-4024.803754</td>\n",
       "      <td>36</td>\n",
       "      <td>среднее</td>\n",
       "      <td>1</td>\n",
       "      <td>женат / замужем</td>\n",
       "      <td>0</td>\n",
       "      <td>F</td>\n",
       "      <td>сотрудник</td>\n",
       "      <td>0</td>\n",
       "      <td>112080.014102</td>\n",
       "      <td>приобретение автомобиля</td>\n",
       "    </tr>\n",
       "    <tr>\n",
       "      <th>2</th>\n",
       "      <td>0</td>\n",
       "      <td>-5623.422610</td>\n",
       "      <td>33</td>\n",
       "      <td>Среднее</td>\n",
       "      <td>1</td>\n",
       "      <td>женат / замужем</td>\n",
       "      <td>0</td>\n",
       "      <td>M</td>\n",
       "      <td>сотрудник</td>\n",
       "      <td>0</td>\n",
       "      <td>145885.952297</td>\n",
       "      <td>покупка жилья</td>\n",
       "    </tr>\n",
       "    <tr>\n",
       "      <th>3</th>\n",
       "      <td>3</td>\n",
       "      <td>-4124.747207</td>\n",
       "      <td>32</td>\n",
       "      <td>среднее</td>\n",
       "      <td>1</td>\n",
       "      <td>женат / замужем</td>\n",
       "      <td>0</td>\n",
       "      <td>M</td>\n",
       "      <td>сотрудник</td>\n",
       "      <td>0</td>\n",
       "      <td>267628.550329</td>\n",
       "      <td>дополнительное образование</td>\n",
       "    </tr>\n",
       "    <tr>\n",
       "      <th>4</th>\n",
       "      <td>0</td>\n",
       "      <td>340266.072047</td>\n",
       "      <td>53</td>\n",
       "      <td>среднее</td>\n",
       "      <td>1</td>\n",
       "      <td>гражданский брак</td>\n",
       "      <td>1</td>\n",
       "      <td>F</td>\n",
       "      <td>пенсионер</td>\n",
       "      <td>0</td>\n",
       "      <td>158616.077870</td>\n",
       "      <td>сыграть свадьбу</td>\n",
       "    </tr>\n",
       "    <tr>\n",
       "      <th>5</th>\n",
       "      <td>0</td>\n",
       "      <td>-926.185831</td>\n",
       "      <td>27</td>\n",
       "      <td>высшее</td>\n",
       "      <td>0</td>\n",
       "      <td>гражданский брак</td>\n",
       "      <td>1</td>\n",
       "      <td>M</td>\n",
       "      <td>компаньон</td>\n",
       "      <td>0</td>\n",
       "      <td>255763.565419</td>\n",
       "      <td>покупка жилья</td>\n",
       "    </tr>\n",
       "    <tr>\n",
       "      <th>6</th>\n",
       "      <td>0</td>\n",
       "      <td>-2879.202052</td>\n",
       "      <td>43</td>\n",
       "      <td>высшее</td>\n",
       "      <td>0</td>\n",
       "      <td>женат / замужем</td>\n",
       "      <td>0</td>\n",
       "      <td>F</td>\n",
       "      <td>компаньон</td>\n",
       "      <td>0</td>\n",
       "      <td>240525.971920</td>\n",
       "      <td>операции с жильем</td>\n",
       "    </tr>\n",
       "    <tr>\n",
       "      <th>7</th>\n",
       "      <td>0</td>\n",
       "      <td>-152.779569</td>\n",
       "      <td>50</td>\n",
       "      <td>СРЕДНЕЕ</td>\n",
       "      <td>1</td>\n",
       "      <td>женат / замужем</td>\n",
       "      <td>0</td>\n",
       "      <td>M</td>\n",
       "      <td>сотрудник</td>\n",
       "      <td>0</td>\n",
       "      <td>135823.934197</td>\n",
       "      <td>образование</td>\n",
       "    </tr>\n",
       "    <tr>\n",
       "      <th>8</th>\n",
       "      <td>2</td>\n",
       "      <td>-6929.865299</td>\n",
       "      <td>35</td>\n",
       "      <td>ВЫСШЕЕ</td>\n",
       "      <td>0</td>\n",
       "      <td>гражданский брак</td>\n",
       "      <td>1</td>\n",
       "      <td>F</td>\n",
       "      <td>сотрудник</td>\n",
       "      <td>0</td>\n",
       "      <td>95856.832424</td>\n",
       "      <td>на проведение свадьбы</td>\n",
       "    </tr>\n",
       "    <tr>\n",
       "      <th>9</th>\n",
       "      <td>0</td>\n",
       "      <td>-2188.756445</td>\n",
       "      <td>41</td>\n",
       "      <td>среднее</td>\n",
       "      <td>1</td>\n",
       "      <td>женат / замужем</td>\n",
       "      <td>0</td>\n",
       "      <td>M</td>\n",
       "      <td>сотрудник</td>\n",
       "      <td>0</td>\n",
       "      <td>144425.938277</td>\n",
       "      <td>покупка жилья для семьи</td>\n",
       "    </tr>\n",
       "    <tr>\n",
       "      <th>10</th>\n",
       "      <td>2</td>\n",
       "      <td>-4171.483647</td>\n",
       "      <td>36</td>\n",
       "      <td>высшее</td>\n",
       "      <td>0</td>\n",
       "      <td>женат / замужем</td>\n",
       "      <td>0</td>\n",
       "      <td>M</td>\n",
       "      <td>компаньон</td>\n",
       "      <td>0</td>\n",
       "      <td>113943.491460</td>\n",
       "      <td>покупка недвижимости</td>\n",
       "    </tr>\n",
       "    <tr>\n",
       "      <th>11</th>\n",
       "      <td>0</td>\n",
       "      <td>-792.701887</td>\n",
       "      <td>40</td>\n",
       "      <td>среднее</td>\n",
       "      <td>1</td>\n",
       "      <td>женат / замужем</td>\n",
       "      <td>0</td>\n",
       "      <td>F</td>\n",
       "      <td>сотрудник</td>\n",
       "      <td>0</td>\n",
       "      <td>77069.234271</td>\n",
       "      <td>покупка коммерческой недвижимости</td>\n",
       "    </tr>\n",
       "    <tr>\n",
       "      <th>12</th>\n",
       "      <td>0</td>\n",
       "      <td>NaN</td>\n",
       "      <td>65</td>\n",
       "      <td>среднее</td>\n",
       "      <td>1</td>\n",
       "      <td>гражданский брак</td>\n",
       "      <td>1</td>\n",
       "      <td>M</td>\n",
       "      <td>пенсионер</td>\n",
       "      <td>0</td>\n",
       "      <td>NaN</td>\n",
       "      <td>сыграть свадьбу</td>\n",
       "    </tr>\n",
       "    <tr>\n",
       "      <th>13</th>\n",
       "      <td>0</td>\n",
       "      <td>-1846.641941</td>\n",
       "      <td>54</td>\n",
       "      <td>неоконченное высшее</td>\n",
       "      <td>2</td>\n",
       "      <td>женат / замужем</td>\n",
       "      <td>0</td>\n",
       "      <td>F</td>\n",
       "      <td>сотрудник</td>\n",
       "      <td>0</td>\n",
       "      <td>130458.228857</td>\n",
       "      <td>приобретение автомобиля</td>\n",
       "    </tr>\n",
       "    <tr>\n",
       "      <th>14</th>\n",
       "      <td>0</td>\n",
       "      <td>-1844.956182</td>\n",
       "      <td>56</td>\n",
       "      <td>высшее</td>\n",
       "      <td>0</td>\n",
       "      <td>гражданский брак</td>\n",
       "      <td>1</td>\n",
       "      <td>F</td>\n",
       "      <td>компаньон</td>\n",
       "      <td>1</td>\n",
       "      <td>165127.911772</td>\n",
       "      <td>покупка жилой недвижимости</td>\n",
       "    </tr>\n",
       "    <tr>\n",
       "      <th>15</th>\n",
       "      <td>1</td>\n",
       "      <td>-972.364419</td>\n",
       "      <td>26</td>\n",
       "      <td>среднее</td>\n",
       "      <td>1</td>\n",
       "      <td>женат / замужем</td>\n",
       "      <td>0</td>\n",
       "      <td>F</td>\n",
       "      <td>сотрудник</td>\n",
       "      <td>0</td>\n",
       "      <td>116820.904450</td>\n",
       "      <td>строительство собственной недвижимости</td>\n",
       "    </tr>\n",
       "    <tr>\n",
       "      <th>16</th>\n",
       "      <td>0</td>\n",
       "      <td>-1719.934226</td>\n",
       "      <td>35</td>\n",
       "      <td>среднее</td>\n",
       "      <td>1</td>\n",
       "      <td>женат / замужем</td>\n",
       "      <td>0</td>\n",
       "      <td>F</td>\n",
       "      <td>сотрудник</td>\n",
       "      <td>0</td>\n",
       "      <td>289202.704229</td>\n",
       "      <td>недвижимость</td>\n",
       "    </tr>\n",
       "    <tr>\n",
       "      <th>17</th>\n",
       "      <td>0</td>\n",
       "      <td>-2369.999720</td>\n",
       "      <td>33</td>\n",
       "      <td>высшее</td>\n",
       "      <td>0</td>\n",
       "      <td>гражданский брак</td>\n",
       "      <td>1</td>\n",
       "      <td>M</td>\n",
       "      <td>сотрудник</td>\n",
       "      <td>0</td>\n",
       "      <td>90410.586745</td>\n",
       "      <td>строительство недвижимости</td>\n",
       "    </tr>\n",
       "    <tr>\n",
       "      <th>18</th>\n",
       "      <td>0</td>\n",
       "      <td>400281.136913</td>\n",
       "      <td>53</td>\n",
       "      <td>среднее</td>\n",
       "      <td>1</td>\n",
       "      <td>вдовец / вдова</td>\n",
       "      <td>2</td>\n",
       "      <td>F</td>\n",
       "      <td>пенсионер</td>\n",
       "      <td>0</td>\n",
       "      <td>56823.777243</td>\n",
       "      <td>на покупку подержанного автомобиля</td>\n",
       "    </tr>\n",
       "    <tr>\n",
       "      <th>19</th>\n",
       "      <td>0</td>\n",
       "      <td>-10038.818549</td>\n",
       "      <td>48</td>\n",
       "      <td>СРЕДНЕЕ</td>\n",
       "      <td>1</td>\n",
       "      <td>в разводе</td>\n",
       "      <td>3</td>\n",
       "      <td>F</td>\n",
       "      <td>сотрудник</td>\n",
       "      <td>0</td>\n",
       "      <td>242831.107982</td>\n",
       "      <td>на покупку своего автомобиля</td>\n",
       "    </tr>\n",
       "  </tbody>\n",
       "</table>\n",
       "</div>"
      ],
      "text/plain": [
       "    children  days_employed  dob_years            education  education_id  \\\n",
       "0          1   -8437.673028         42               высшее             0   \n",
       "1          1   -4024.803754         36              среднее             1   \n",
       "2          0   -5623.422610         33              Среднее             1   \n",
       "3          3   -4124.747207         32              среднее             1   \n",
       "4          0  340266.072047         53              среднее             1   \n",
       "5          0    -926.185831         27               высшее             0   \n",
       "6          0   -2879.202052         43               высшее             0   \n",
       "7          0    -152.779569         50              СРЕДНЕЕ             1   \n",
       "8          2   -6929.865299         35               ВЫСШЕЕ             0   \n",
       "9          0   -2188.756445         41              среднее             1   \n",
       "10         2   -4171.483647         36               высшее             0   \n",
       "11         0    -792.701887         40              среднее             1   \n",
       "12         0            NaN         65              среднее             1   \n",
       "13         0   -1846.641941         54  неоконченное высшее             2   \n",
       "14         0   -1844.956182         56               высшее             0   \n",
       "15         1    -972.364419         26              среднее             1   \n",
       "16         0   -1719.934226         35              среднее             1   \n",
       "17         0   -2369.999720         33               высшее             0   \n",
       "18         0  400281.136913         53              среднее             1   \n",
       "19         0  -10038.818549         48              СРЕДНЕЕ             1   \n",
       "\n",
       "       family_status  family_status_id gender income_type  debt  \\\n",
       "0    женат / замужем                 0      F   сотрудник     0   \n",
       "1    женат / замужем                 0      F   сотрудник     0   \n",
       "2    женат / замужем                 0      M   сотрудник     0   \n",
       "3    женат / замужем                 0      M   сотрудник     0   \n",
       "4   гражданский брак                 1      F   пенсионер     0   \n",
       "5   гражданский брак                 1      M   компаньон     0   \n",
       "6    женат / замужем                 0      F   компаньон     0   \n",
       "7    женат / замужем                 0      M   сотрудник     0   \n",
       "8   гражданский брак                 1      F   сотрудник     0   \n",
       "9    женат / замужем                 0      M   сотрудник     0   \n",
       "10   женат / замужем                 0      M   компаньон     0   \n",
       "11   женат / замужем                 0      F   сотрудник     0   \n",
       "12  гражданский брак                 1      M   пенсионер     0   \n",
       "13   женат / замужем                 0      F   сотрудник     0   \n",
       "14  гражданский брак                 1      F   компаньон     1   \n",
       "15   женат / замужем                 0      F   сотрудник     0   \n",
       "16   женат / замужем                 0      F   сотрудник     0   \n",
       "17  гражданский брак                 1      M   сотрудник     0   \n",
       "18    вдовец / вдова                 2      F   пенсионер     0   \n",
       "19         в разводе                 3      F   сотрудник     0   \n",
       "\n",
       "     total_income                                 purpose  \n",
       "0   253875.639453                           покупка жилья  \n",
       "1   112080.014102                 приобретение автомобиля  \n",
       "2   145885.952297                           покупка жилья  \n",
       "3   267628.550329              дополнительное образование  \n",
       "4   158616.077870                         сыграть свадьбу  \n",
       "5   255763.565419                           покупка жилья  \n",
       "6   240525.971920                       операции с жильем  \n",
       "7   135823.934197                             образование  \n",
       "8    95856.832424                   на проведение свадьбы  \n",
       "9   144425.938277                 покупка жилья для семьи  \n",
       "10  113943.491460                    покупка недвижимости  \n",
       "11   77069.234271       покупка коммерческой недвижимости  \n",
       "12            NaN                         сыграть свадьбу  \n",
       "13  130458.228857                 приобретение автомобиля  \n",
       "14  165127.911772              покупка жилой недвижимости  \n",
       "15  116820.904450  строительство собственной недвижимости  \n",
       "16  289202.704229                            недвижимость  \n",
       "17   90410.586745              строительство недвижимости  \n",
       "18   56823.777243      на покупку подержанного автомобиля  \n",
       "19  242831.107982            на покупку своего автомобиля  "
      ]
     },
     "execution_count": 3,
     "metadata": {},
     "output_type": "execute_result"
    }
   ],
   "source": [
    "data.head(20)"
   ]
  },
  {
   "cell_type": "markdown",
   "id": "a50963d6",
   "metadata": {
    "deletable": false,
    "editable": false,
    "id": "1c12e233"
   },
   "source": [
    "**Задание 3. Выведите основную информацию о датафрейме с помощью метода `info()`.**"
   ]
  },
  {
   "cell_type": "code",
   "execution_count": 4,
   "id": "3773327f",
   "metadata": {
    "deletable": false,
    "id": "2b757bca",
    "outputId": "15376089-8dad-46c9-b520-c05248d43158"
   },
   "outputs": [
    {
     "name": "stdout",
     "output_type": "stream",
     "text": [
      "<class 'pandas.core.frame.DataFrame'>\n",
      "RangeIndex: 21525 entries, 0 to 21524\n",
      "Data columns (total 12 columns):\n",
      " #   Column            Non-Null Count  Dtype  \n",
      "---  ------            --------------  -----  \n",
      " 0   children          21525 non-null  int64  \n",
      " 1   days_employed     19351 non-null  float64\n",
      " 2   dob_years         21525 non-null  int64  \n",
      " 3   education         21525 non-null  object \n",
      " 4   education_id      21525 non-null  int64  \n",
      " 5   family_status     21525 non-null  object \n",
      " 6   family_status_id  21525 non-null  int64  \n",
      " 7   gender            21525 non-null  object \n",
      " 8   income_type       21525 non-null  object \n",
      " 9   debt              21525 non-null  int64  \n",
      " 10  total_income      19351 non-null  float64\n",
      " 11  purpose           21525 non-null  object \n",
      "dtypes: float64(2), int64(5), object(5)\n",
      "memory usage: 2.0+ MB\n"
     ]
    }
   ],
   "source": [
    "data.info()"
   ]
  },
  {
   "cell_type": "markdown",
   "id": "ca2185e9",
   "metadata": {
    "deletable": false,
    "editable": false,
    "id": "333ec665"
   },
   "source": [
    "## Предобработка данных"
   ]
  },
  {
   "cell_type": "markdown",
   "id": "5b763ed9",
   "metadata": {
    "deletable": false,
    "editable": false,
    "id": "02d92d53"
   },
   "source": [
    "### Удаление пропусков"
   ]
  },
  {
   "cell_type": "markdown",
   "id": "e9c18858",
   "metadata": {
    "deletable": false,
    "editable": false,
    "id": "cd84967c"
   },
   "source": [
    "**Задание 4. Выведите количество пропущенных значений для каждого столбца. Используйте комбинацию двух методов.**"
   ]
  },
  {
   "cell_type": "code",
   "execution_count": 5,
   "id": "9c2bd6a5",
   "metadata": {
    "deletable": false,
    "id": "7f9b2309",
    "outputId": "81f4d817-781c-465c-ed15-91ce4446810d"
   },
   "outputs": [
    {
     "data": {
      "text/plain": [
       "children               0\n",
       "days_employed       2174\n",
       "dob_years              0\n",
       "education              0\n",
       "education_id           0\n",
       "family_status          0\n",
       "family_status_id       0\n",
       "gender                 0\n",
       "income_type            0\n",
       "debt                   0\n",
       "total_income        2174\n",
       "purpose                0\n",
       "dtype: int64"
      ]
     },
     "execution_count": 5,
     "metadata": {},
     "output_type": "execute_result"
    }
   ],
   "source": [
    "data.isna().sum()"
   ]
  },
  {
   "cell_type": "markdown",
   "id": "45859490",
   "metadata": {
    "deletable": false,
    "editable": false,
    "id": "db86e27b"
   },
   "source": [
    "**Задание 5. В двух столбцах есть пропущенные значения. Один из них — `days_employed`. Пропуски в этом столбце вы обработаете на следующем этапе. Другой столбец с пропущенными значениями — `total_income` — хранит данные о доходах. На сумму дохода сильнее всего влияет тип занятости, поэтому заполнить пропуски в этом столбце нужно медианным значением по каждому типу из столбца `income_type`. Например, у человека с типом занятости `сотрудник` пропуск в столбце `total_income` должен быть заполнен медианным доходом среди всех записей с тем же типом.**"
   ]
  },
  {
   "cell_type": "code",
   "execution_count": 6,
   "id": "0e2202b5",
   "metadata": {
    "deletable": false,
    "id": "42006a93"
   },
   "outputs": [],
   "source": [
    "for t in data['income_type'].unique():\n",
    "    data.loc[(data['income_type'] == t) & (data['total_income'].isna()), 'total_income'] = \\\n",
    "    data.loc[(data['income_type'] == t), 'total_income'].median()"
   ]
  },
  {
   "cell_type": "markdown",
   "id": "6bd1ba40",
   "metadata": {
    "deletable": false,
    "editable": false,
    "id": "89da5ece"
   },
   "source": [
    "### Обработка аномальных значений"
   ]
  },
  {
   "cell_type": "markdown",
   "id": "374a7afb",
   "metadata": {
    "deletable": false,
    "editable": false,
    "id": "57964554"
   },
   "source": [
    "**Задание 6. В данных могут встречаться артефакты (аномалии) — значения, которые не отражают действительность и появились по какой-то ошибке. таким артефактом будет отрицательное количество дней трудового стажа в столбце `days_employed`. Для реальных данных это нормально. Обработайте значения в этом столбце: замените все отрицательные значения положительными с помощью метода `abs()`.**"
   ]
  },
  {
   "cell_type": "code",
   "execution_count": 7,
   "id": "44237734",
   "metadata": {
    "deletable": false,
    "id": "f6f055bf"
   },
   "outputs": [],
   "source": [
    "data['days_employed'] = data['days_employed'].abs()"
   ]
  },
  {
   "cell_type": "markdown",
   "id": "c7441dee",
   "metadata": {
    "deletable": false,
    "editable": false,
    "id": "6107dd2f"
   },
   "source": [
    "**Задание 7. Для каждого типа занятости выведите медианное значение трудового стажа `days_employed` в днях.**"
   ]
  },
  {
   "cell_type": "code",
   "execution_count": 8,
   "id": "f1aa3a42",
   "metadata": {
    "deletable": false,
    "id": "85a5faf6",
    "outputId": "801ef80e-522b-4668-f34e-565af7432bcf"
   },
   "outputs": [
    {
     "data": {
      "text/plain": [
       "income_type\n",
       "безработный        366413.652744\n",
       "в декрете            3296.759962\n",
       "госслужащий          2689.368353\n",
       "компаньон            1547.382223\n",
       "пенсионер          365213.306266\n",
       "предприниматель       520.848083\n",
       "сотрудник            1574.202821\n",
       "студент               578.751554\n",
       "Name: days_employed, dtype: float64"
      ]
     },
     "execution_count": 8,
     "metadata": {},
     "output_type": "execute_result"
    }
   ],
   "source": [
    "data.groupby('income_type')['days_employed'].median()"
   ]
  },
  {
   "cell_type": "markdown",
   "id": "32fbfbc1",
   "metadata": {
    "deletable": false,
    "editable": false,
    "id": "38d1a030"
   },
   "source": [
    "У двух типов (безработные и пенсионеры) получатся аномально большие значения. Исправить такие значения сложно, поэтому оставьте их как есть. Тем более этот столбец не понадобится вам для исследования."
   ]
  },
  {
   "cell_type": "markdown",
   "id": "fc095d96",
   "metadata": {
    "deletable": false,
    "editable": false,
    "id": "d8a9f147"
   },
   "source": [
    "**Задание 8. Выведите перечень уникальных значений столбца `children`.**"
   ]
  },
  {
   "cell_type": "code",
   "execution_count": 9,
   "id": "18b90803",
   "metadata": {
    "deletable": false,
    "id": "ef5056eb",
    "outputId": "6975b15c-7f95-4697-d16d-a0c79b657b03"
   },
   "outputs": [
    {
     "data": {
      "text/plain": [
       "array([ 1,  0,  3,  2, -1,  4, 20,  5])"
      ]
     },
     "execution_count": 9,
     "metadata": {},
     "output_type": "execute_result"
    }
   ],
   "source": [
    "data['children'].unique()"
   ]
  },
  {
   "cell_type": "markdown",
   "id": "e8e857d8",
   "metadata": {
    "deletable": false,
    "editable": false,
    "id": "40b9ebf2"
   },
   "source": [
    "**Задание 9. В столбце `children` есть два аномальных значения. Удалите строки, в которых встречаются такие аномальные значения из датафрейма `data`.**"
   ]
  },
  {
   "cell_type": "code",
   "execution_count": 10,
   "id": "0b756688",
   "metadata": {
    "deletable": false,
    "id": "3ff9801d"
   },
   "outputs": [],
   "source": [
    "data = data[(data['children'] != -1) & (data['children'] != 20)]"
   ]
  },
  {
   "cell_type": "markdown",
   "id": "a8b82508",
   "metadata": {
    "deletable": false,
    "editable": false,
    "id": "bbc4d0ce"
   },
   "source": [
    "**Задание 10. Ещё раз выведите перечень уникальных значений столбца `children`, чтобы убедиться, что артефакты удалены.**"
   ]
  },
  {
   "cell_type": "code",
   "execution_count": 11,
   "id": "b6f1bc94",
   "metadata": {
    "deletable": false,
    "id": "ad4fa8b7",
    "outputId": "b2097101-d49d-44d9-901b-32a65c9463d1"
   },
   "outputs": [
    {
     "data": {
      "text/plain": [
       "array([1, 0, 3, 2, 4, 5])"
      ]
     },
     "execution_count": 11,
     "metadata": {},
     "output_type": "execute_result"
    }
   ],
   "source": [
    "data['children'].unique()"
   ]
  },
  {
   "cell_type": "markdown",
   "id": "300088a5",
   "metadata": {
    "deletable": false,
    "editable": false,
    "id": "75440b63"
   },
   "source": [
    "### Удаление пропусков (продолжение)"
   ]
  },
  {
   "cell_type": "markdown",
   "id": "0bf5e8d1",
   "metadata": {
    "deletable": false,
    "editable": false,
    "id": "f4ea573f"
   },
   "source": [
    "**Задание 11. Заполните пропуски в столбце `days_employed` медианными значениями по каждого типа занятости `income_type`.**"
   ]
  },
  {
   "cell_type": "code",
   "execution_count": 12,
   "id": "9d994e62",
   "metadata": {
    "deletable": false,
    "id": "af6b1a7e"
   },
   "outputs": [],
   "source": [
    "for t in data['income_type'].unique():\n",
    "    data.loc[(data['income_type'] == t) & (data['days_employed'].isna()), 'days_employed'] = \\\n",
    "    data.loc[(data['income_type'] == t), 'days_employed'].median()"
   ]
  },
  {
   "cell_type": "markdown",
   "id": "f2c97b53",
   "metadata": {
    "deletable": false,
    "editable": false,
    "id": "2753f40d"
   },
   "source": [
    "**Задание 12. Убедитесь, что все пропуски заполнены. Проверьте себя и ещё раз выведите количество пропущенных значений для каждого столбца с помощью двух методов.**"
   ]
  },
  {
   "cell_type": "code",
   "execution_count": 13,
   "id": "dc7c6184",
   "metadata": {
    "deletable": false,
    "id": "55f78bc2",
    "outputId": "8da1e4e1-358e-4e87-98c9-f261bce0a7b2"
   },
   "outputs": [
    {
     "data": {
      "text/plain": [
       "children            0\n",
       "days_employed       0\n",
       "dob_years           0\n",
       "education           0\n",
       "education_id        0\n",
       "family_status       0\n",
       "family_status_id    0\n",
       "gender              0\n",
       "income_type         0\n",
       "debt                0\n",
       "total_income        0\n",
       "purpose             0\n",
       "dtype: int64"
      ]
     },
     "execution_count": 13,
     "metadata": {},
     "output_type": "execute_result"
    }
   ],
   "source": [
    "data.isna().sum()"
   ]
  },
  {
   "cell_type": "markdown",
   "id": "f61eec01",
   "metadata": {
    "deletable": false,
    "editable": false,
    "id": "ddc81e43"
   },
   "source": [
    "### Изменение типов данных"
   ]
  },
  {
   "cell_type": "markdown",
   "id": "f1fd9b68",
   "metadata": {
    "deletable": false,
    "editable": false,
    "id": "42d19d24"
   },
   "source": [
    "**Задание 13. Замените вещественный тип данных в столбце `total_income` на целочисленный с помощью метода `astype()`.**"
   ]
  },
  {
   "cell_type": "code",
   "execution_count": 14,
   "id": "9ede3b4c",
   "metadata": {
    "deletable": false,
    "id": "920b65ad"
   },
   "outputs": [],
   "source": [
    "data['total_income'] = data['total_income'].astype(int)"
   ]
  },
  {
   "cell_type": "markdown",
   "id": "0189a733",
   "metadata": {
    "deletable": false,
    "editable": false,
    "id": "80c420ba"
   },
   "source": [
    "### Обработка дубликатов"
   ]
  },
  {
   "cell_type": "markdown",
   "id": "39080c2c",
   "metadata": {
    "deletable": false,
    "editable": false
   },
   "source": [
    "**Задание 14. Обработайте неявные дубликаты в столбце `education`. В этом столбце есть одни и те же значения, но записанные по-разному: с использованием заглавных и строчных букв. Приведите их к нижнему регистру. Проверьте остальные столбцы.**"
   ]
  },
  {
   "cell_type": "code",
   "execution_count": 15,
   "id": "88efa29d",
   "metadata": {
    "deletable": false
   },
   "outputs": [],
   "source": [
    "data['education'] = data['education'].str.lower()"
   ]
  },
  {
   "cell_type": "markdown",
   "id": "83dfbc0f",
   "metadata": {
    "deletable": false,
    "editable": false,
    "id": "dc587695"
   },
   "source": [
    "**Задание 15. Выведите на экран количество строк-дубликатов в данных. Если такие строки присутствуют, удалите их.**"
   ]
  },
  {
   "cell_type": "code",
   "execution_count": 16,
   "id": "00ac6737",
   "metadata": {
    "deletable": false,
    "id": "3ee445e4",
    "outputId": "9684deba-1934-42d1-99e1-cda61740f822"
   },
   "outputs": [
    {
     "data": {
      "text/plain": [
       "71"
      ]
     },
     "execution_count": 16,
     "metadata": {},
     "output_type": "execute_result"
    }
   ],
   "source": [
    "data.duplicated().sum()"
   ]
  },
  {
   "cell_type": "code",
   "execution_count": 17,
   "id": "8758814f",
   "metadata": {
    "deletable": false,
    "id": "8575fe05"
   },
   "outputs": [],
   "source": [
    "data = data.drop_duplicates()"
   ]
  },
  {
   "cell_type": "markdown",
   "id": "a652daac",
   "metadata": {
    "deletable": false,
    "editable": false,
    "id": "9904cf55"
   },
   "source": [
    "### Категоризация данных"
   ]
  },
  {
   "cell_type": "markdown",
   "id": "3ddab6be",
   "metadata": {
    "deletable": false,
    "editable": false,
    "id": "72fcc8a2"
   },
   "source": [
    "**Задание 16. На основании диапазонов, указанных ниже, создайте в датафрейме `data` столбец `total_income_category` с категориями:**\n",
    "\n",
    "- 0–30000 — `'E'`;\n",
    "- 30001–50000 — `'D'`;\n",
    "- 50001–200000 — `'C'`;\n",
    "- 200001–1000000 — `'B'`;\n",
    "- 1000001 и выше — `'A'`.\n",
    "\n",
    "\n",
    "**Например, кредитополучателю с доходом 25000 нужно назначить категорию `'E'`, а клиенту, получающему 235000, — `'B'`. Используйте собственную функцию с именем `categorize_income()` и метод `apply()`.**"
   ]
  },
  {
   "cell_type": "code",
   "execution_count": 18,
   "id": "ed46ebd0",
   "metadata": {
    "deletable": false,
    "id": "e1771346"
   },
   "outputs": [],
   "source": [
    "def categorize_income(income):\n",
    "    if 0 <= income <= 30000:\n",
    "        return 'E'\n",
    "    elif 30001 <= income <= 50000:\n",
    "        return 'D'\n",
    "    elif 50001 <= income <= 200000:\n",
    "        return 'C'\n",
    "    elif 200001 <= income <= 1000000:\n",
    "        return 'B'\n",
    "    elif income >= 1000001:\n",
    "        return 'A'\n"
   ]
  },
  {
   "cell_type": "code",
   "execution_count": 19,
   "id": "37b6f5b7",
   "metadata": {
    "deletable": false,
    "id": "d5f3586d"
   },
   "outputs": [
    {
     "name": "stdout",
     "output_type": "stream",
     "text": [
      "C    15921\n",
      "B     5014\n",
      "D      349\n",
      "A       25\n",
      "E       22\n",
      "Name: total_income_category, dtype: int64\n"
     ]
    }
   ],
   "source": [
    "data['total_income_category'] = data['total_income'].apply(categorize_income)\n",
    "print(data['total_income_category'].value_counts())"
   ]
  },
  {
   "cell_type": "markdown",
   "id": "6b52bf47",
   "metadata": {
    "deletable": false,
    "editable": false,
    "id": "dde49b5c"
   },
   "source": [
    "**Задание 17. Выведите на экран перечень уникальных целей взятия кредита из столбца `purpose`.**"
   ]
  },
  {
   "cell_type": "code",
   "execution_count": 20,
   "id": "c59fad02",
   "metadata": {
    "deletable": false,
    "id": "f67ce9b3",
    "outputId": "673c12d9-7d7e-4ae0-9812-c622c89dd244"
   },
   "outputs": [
    {
     "data": {
      "text/plain": [
       "array(['покупка жилья', 'приобретение автомобиля',\n",
       "       'дополнительное образование', 'сыграть свадьбу',\n",
       "       'операции с жильем', 'образование', 'на проведение свадьбы',\n",
       "       'покупка жилья для семьи', 'покупка недвижимости',\n",
       "       'покупка коммерческой недвижимости', 'покупка жилой недвижимости',\n",
       "       'строительство собственной недвижимости', 'недвижимость',\n",
       "       'строительство недвижимости', 'на покупку подержанного автомобиля',\n",
       "       'на покупку своего автомобиля',\n",
       "       'операции с коммерческой недвижимостью',\n",
       "       'строительство жилой недвижимости', 'жилье',\n",
       "       'операции со своей недвижимостью', 'автомобили',\n",
       "       'заняться образованием', 'сделка с подержанным автомобилем',\n",
       "       'получение образования', 'автомобиль', 'свадьба',\n",
       "       'получение дополнительного образования', 'покупка своего жилья',\n",
       "       'операции с недвижимостью', 'получение высшего образования',\n",
       "       'свой автомобиль', 'сделка с автомобилем',\n",
       "       'профильное образование', 'высшее образование',\n",
       "       'покупка жилья для сдачи', 'на покупку автомобиля', 'ремонт жилью',\n",
       "       'заняться высшим образованием'], dtype=object)"
      ]
     },
     "execution_count": 20,
     "metadata": {},
     "output_type": "execute_result"
    }
   ],
   "source": [
    "data['purpose'].unique()"
   ]
  },
  {
   "cell_type": "markdown",
   "id": "abf72007",
   "metadata": {
    "deletable": false,
    "editable": false,
    "id": "85d0aef0"
   },
   "source": [
    "**Задание 18. Создайте функцию, которая на основании данных из столбца `purpose` сформирует новый столбец `purpose_category`, в который войдут следующие категории:**\n",
    "\n",
    "- `'операции с автомобилем'`,\n",
    "- `'операции с недвижимостью'`,\n",
    "- `'проведение свадьбы'`,\n",
    "- `'получение образования'`.\n",
    "\n",
    "**Например, если в столбце `purpose` находится подстрока `'на покупку автомобиля'`, то в столбце `purpose_category` должна появиться строка `'операции с автомобилем'`.**\n",
    "\n",
    "**Используйте собственную функцию с именем `categorize_purpose()` и метод `apply()`. Изучите данные в столбце `purpose` и определите, какие подстроки помогут вам правильно определить категорию.**"
   ]
  },
  {
   "cell_type": "code",
   "execution_count": 21,
   "id": "8c133da2",
   "metadata": {
    "deletable": false,
    "id": "e149fab4"
   },
   "outputs": [],
   "source": [
    "def categorize_purpose(row):\n",
    "    try:\n",
    "        if 'автом' in row:\n",
    "            return 'операции с автомобилем'\n",
    "        elif 'жил' in row or 'недвиж' in row:\n",
    "            return 'операции с недвижимостью'\n",
    "        elif 'свад' in row:\n",
    "            return 'проведение свадьбы'\n",
    "        elif 'образов' in row:\n",
    "            return 'получение образования'\n",
    "    except:\n",
    "        return 'нет категории'"
   ]
  },
  {
   "cell_type": "code",
   "execution_count": 22,
   "id": "e39127c4",
   "metadata": {
    "deletable": false,
    "id": "bf36e69b"
   },
   "outputs": [
    {
     "name": "stdout",
     "output_type": "stream",
     "text": [
      "операции с недвижимостью    10751\n",
      "операции с автомобилем       4279\n",
      "получение образования        3988\n",
      "проведение свадьбы           2313\n",
      "Name: purpose_category, dtype: int64\n"
     ]
    }
   ],
   "source": [
    "data['purpose_category'] = data['purpose'].apply(categorize_purpose)\n",
    "print(data['purpose_category'].value_counts())"
   ]
  },
  {
   "cell_type": "markdown",
   "id": "04c2bde9",
   "metadata": {
    "deletable": false,
    "editable": false,
    "id": "09b242bf"
   },
   "source": [
    "### Шаг 3. Исследуйте данные и ответьте на вопросы"
   ]
  },
  {
   "cell_type": "markdown",
   "id": "5c2ccfab",
   "metadata": {
    "deletable": false,
    "editable": false,
    "id": "c5d66278"
   },
   "source": [
    "#### 3.1 Есть ли зависимость между количеством детей и возвратом кредита в срок?"
   ]
  },
  {
   "cell_type": "code",
   "execution_count": 23,
   "id": "072e0d53",
   "metadata": {
    "deletable": false,
    "id": "2cacfc4a"
   },
   "outputs": [],
   "source": [
    "# Присвоим семьям категории, чтобы более точно рассчитать среднее значение просрочки\n",
    "def categorize_children(row): # Ваш код будет здесь. Вы можете создавать новые ячейки. \n",
    "    try:\n",
    "        if row == 0:\n",
    "            return 'нет детей'\n",
    "        elif row <= 2:\n",
    "            return 'малодетная семья'\n",
    "        elif row > 2:\n",
    "            return 'многодетная семья'\n",
    "    except:\n",
    "        return 'нет категории'"
   ]
  },
  {
   "cell_type": "code",
   "execution_count": 24,
   "id": "5b9d31d3",
   "metadata": {},
   "outputs": [
    {
     "name": "stdout",
     "output_type": "stream",
     "text": [
      "нет детей            14091\n",
      "малодетная семья      6860\n",
      "многодетная семья      380\n",
      "Name: children_category, dtype: int64\n"
     ]
    }
   ],
   "source": [
    "data['children_category'] = data['children'].apply(categorize_children)\n",
    "print(data['children_category'].value_counts())\n"
   ]
  },
  {
   "cell_type": "code",
   "execution_count": 25,
   "id": "97ba3c6a",
   "metadata": {},
   "outputs": [
    {
     "data": {
      "text/html": [
       "<div>\n",
       "<style scoped>\n",
       "    .dataframe tbody tr th:only-of-type {\n",
       "        vertical-align: middle;\n",
       "    }\n",
       "\n",
       "    .dataframe tbody tr th {\n",
       "        vertical-align: top;\n",
       "    }\n",
       "\n",
       "    .dataframe thead tr th {\n",
       "        text-align: left;\n",
       "    }\n",
       "\n",
       "    .dataframe thead tr:last-of-type th {\n",
       "        text-align: right;\n",
       "    }\n",
       "</style>\n",
       "<table border=\"1\" class=\"dataframe\">\n",
       "  <thead>\n",
       "    <tr>\n",
       "      <th></th>\n",
       "      <th>кол-во просрочки</th>\n",
       "      <th>кол-во обращений</th>\n",
       "      <th>доля просрочки</th>\n",
       "    </tr>\n",
       "    <tr>\n",
       "      <th></th>\n",
       "      <th>debt</th>\n",
       "      <th>debt</th>\n",
       "      <th>debt</th>\n",
       "    </tr>\n",
       "    <tr>\n",
       "      <th>children_category</th>\n",
       "      <th></th>\n",
       "      <th></th>\n",
       "      <th></th>\n",
       "    </tr>\n",
       "  </thead>\n",
       "  <tbody>\n",
       "    <tr>\n",
       "      <th>малодетная семья</th>\n",
       "      <td>638</td>\n",
       "      <td>6860</td>\n",
       "      <td>0.093003</td>\n",
       "    </tr>\n",
       "    <tr>\n",
       "      <th>многодетная семья</th>\n",
       "      <td>31</td>\n",
       "      <td>380</td>\n",
       "      <td>0.081579</td>\n",
       "    </tr>\n",
       "    <tr>\n",
       "      <th>нет детей</th>\n",
       "      <td>1063</td>\n",
       "      <td>14091</td>\n",
       "      <td>0.075438</td>\n",
       "    </tr>\n",
       "  </tbody>\n",
       "</table>\n",
       "</div>"
      ],
      "text/plain": [
       "                  кол-во просрочки кол-во обращений доля просрочки\n",
       "                              debt             debt           debt\n",
       "children_category                                                 \n",
       "малодетная семья               638             6860       0.093003\n",
       "многодетная семья               31              380       0.081579\n",
       "нет детей                     1063            14091       0.075438"
      ]
     },
     "metadata": {},
     "output_type": "display_data"
    }
   ],
   "source": [
    "# создадим сводную таблицу\n",
    "child_category_debt = pd.pivot_table(data, index = ['children_category'], values = 'debt', aggfunc = [sum, 'count', 'mean'])\n",
    "# переименуем столбцы\n",
    "child_category_debt.rename(columns = {'sum':'кол-во просрочки', 'count':'кол-во обращений', 'mean':'доля просрочки'}, inplace = True)\n",
    "display(child_category_debt)"
   ]
  },
  {
   "cell_type": "markdown",
   "id": "07fae813",
   "metadata": {
    "deletable": false,
    "id": "3a6b99ec"
   },
   "source": [
    "**Вывод:** \n",
    "\n",
    "Имеется зависимость между количеством детей в семье и возвратом кредита в срок:\n",
    "1. Самое высокое значение имеют семьи с 1-2 детьми - 9,3% просрочки\n",
    "2. Далее идут многодетные семьи - 8,2% просрочки\n",
    "3. Семьи без детей - 7,5% просрочки\n",
    "\n",
    "Эту зависимость можно объяснить следующим образом:\n",
    " - Семьи без детей не имеют дополнительной финансовой ответственности на содержание детей, поэтому контролировать возврат кредита проще;\n",
    " - Многодетные семьи статистически берут меньше кредитов, чтобы не наращивать долги. Рассчитывают возможности более взвешенно;\n",
    " - Малодетные семьи самые амбициозные, в связи с случайными и/или регулярными издержками на нужды детей иногда не рассчитывают свои финансы для погашения кредита.\n",
    " \n",
    " \n",
    " \n"
   ]
  },
  {
   "cell_type": "markdown",
   "id": "784c377e",
   "metadata": {},
   "source": [
    "<div class=\"alert alert-success\">\n",
    "<h2> Комментарий ревьюера <a class=\"tocSkip\"> </h2>\n",
    "\n",
    "<b>Все отлично!👍:</b> \n",
    "    \n",
    "Здорово, что ты решила сбалансировать выборку путем объединения самых мелких категорий, молодец!\n",
    "\n",
    "Результаты получились корректными. Оформление аккуратное - можно также сбросить индекс методом reset_index()"
   ]
  },
  {
   "cell_type": "markdown",
   "id": "53cec304",
   "metadata": {
    "deletable": false,
    "editable": false,
    "id": "97be82ca"
   },
   "source": [
    "#### 3.2 Есть ли зависимость между семейным положением и возвратом кредита в срок?"
   ]
  },
  {
   "cell_type": "code",
   "execution_count": 26,
   "id": "f594e74f",
   "metadata": {
    "deletable": false,
    "id": "dc3f7ee8"
   },
   "outputs": [
    {
     "data": {
      "text/html": [
       "<div>\n",
       "<style scoped>\n",
       "    .dataframe tbody tr th:only-of-type {\n",
       "        vertical-align: middle;\n",
       "    }\n",
       "\n",
       "    .dataframe tbody tr th {\n",
       "        vertical-align: top;\n",
       "    }\n",
       "\n",
       "    .dataframe thead tr th {\n",
       "        text-align: left;\n",
       "    }\n",
       "\n",
       "    .dataframe thead tr:last-of-type th {\n",
       "        text-align: right;\n",
       "    }\n",
       "</style>\n",
       "<table border=\"1\" class=\"dataframe\">\n",
       "  <thead>\n",
       "    <tr>\n",
       "      <th></th>\n",
       "      <th colspan=\"3\" halign=\"left\">debt</th>\n",
       "    </tr>\n",
       "    <tr>\n",
       "      <th></th>\n",
       "      <th>кол-во просрочки</th>\n",
       "      <th>кол-во обращений</th>\n",
       "      <th>доля просрочки</th>\n",
       "    </tr>\n",
       "    <tr>\n",
       "      <th>family_status</th>\n",
       "      <th></th>\n",
       "      <th></th>\n",
       "      <th></th>\n",
       "    </tr>\n",
       "  </thead>\n",
       "  <tbody>\n",
       "    <tr>\n",
       "      <th>Не женат / не замужем</th>\n",
       "      <td>273</td>\n",
       "      <td>2796</td>\n",
       "      <td>0.097639</td>\n",
       "    </tr>\n",
       "    <tr>\n",
       "      <th>в разводе</th>\n",
       "      <td>84</td>\n",
       "      <td>1189</td>\n",
       "      <td>0.070648</td>\n",
       "    </tr>\n",
       "    <tr>\n",
       "      <th>вдовец / вдова</th>\n",
       "      <td>63</td>\n",
       "      <td>951</td>\n",
       "      <td>0.066246</td>\n",
       "    </tr>\n",
       "    <tr>\n",
       "      <th>гражданский брак</th>\n",
       "      <td>385</td>\n",
       "      <td>4134</td>\n",
       "      <td>0.093130</td>\n",
       "    </tr>\n",
       "    <tr>\n",
       "      <th>женат / замужем</th>\n",
       "      <td>927</td>\n",
       "      <td>12261</td>\n",
       "      <td>0.075606</td>\n",
       "    </tr>\n",
       "  </tbody>\n",
       "</table>\n",
       "</div>"
      ],
      "text/plain": [
       "                                  debt                                \n",
       "                      кол-во просрочки кол-во обращений доля просрочки\n",
       "family_status                                                         \n",
       "Не женат / не замужем              273             2796       0.097639\n",
       "в разводе                           84             1189       0.070648\n",
       "вдовец / вдова                      63              951       0.066246\n",
       "гражданский брак                   385             4134       0.093130\n",
       "женат / замужем                    927            12261       0.075606"
      ]
     },
     "metadata": {},
     "output_type": "display_data"
    },
    {
     "name": "stdout",
     "output_type": "stream",
     "text": [
      "CPU times: user 14.4 ms, sys: 1.67 ms, total: 16 ms\n",
      "Wall time: 14.2 ms\n"
     ]
    }
   ],
   "source": [
    "%%time\n",
    "# Ваш код будет здесь. Вы можете создавать новые ячейки.\n",
    "# сгруппируем семейное положение\n",
    "family_category_debt = data.groupby('family_status').agg({'debt':['sum', 'count', 'mean']})\n",
    "# переименуем столбцы\n",
    "family_category_debt.rename(columns = {'sum':'кол-во просрочки', 'count':'кол-во обращений', 'mean':'доля просрочки'}, inplace = True)\n",
    "display(family_category_debt)\n"
   ]
  },
  {
   "cell_type": "markdown",
   "id": "c1424696",
   "metadata": {
    "deletable": false,
    "id": "1cef7837"
   },
   "source": [
    "**Вывод:** \n",
    "\n",
    "Имеется зависимость между семейным положением и возвратом кредита в срок:\n",
    "1. Самый высокий процент просрочки в категории \"Не женат / не замужем\" - 9,8% просрочки\n",
    "2. Далее категория \"гражданский брак\" - 9,3% просрочки\n",
    "3. \"женат / замужем - 7,6% просрочки\n",
    "4. \"в разводе\" - 7,1% просрочки\n",
    "5. \"вдовец / вдова\" - 6,6% просрочки \n",
    "\n",
    "Эту зависимость можно объяснить следующим образом:\n",
    " - Категории \"вдовец/вдова\" и \"в разводе\" берут меньше кредитов, более взвешенно подходят к своим возможностям выплаты, так как остались одни и подстраховать некому; \n",
    " - Категория \"женат/замужем\" - имеют 2 или более источника дохода, имеют финансовую ответственность перед семьей, поэтому снижаются риски невыплаты из-за незапланироанных затрат;\n",
    " - Категории \"гражданский брак\" и \"Не женат/не замужем\" - так как не имеют семьи, менее ответственно относятся к деньгам и возможно покупки/взятие кредита совершаются более импульсивно. \n",
    " "
   ]
  },
  {
   "cell_type": "markdown",
   "id": "db7d996a",
   "metadata": {},
   "source": [
    "<div class=\"alert alert-success\">\n",
    "<h2> Комментарий ревьюера <a class=\"tocSkip\"> </h2>\n",
    "\n",
    "<b>Все отлично!👍:</b> \n",
    "    \n",
    "Здорово! Хорошие предположения, объясняющие найденные зависимости"
   ]
  },
  {
   "cell_type": "markdown",
   "id": "32aa41d5",
   "metadata": {
    "deletable": false,
    "editable": false,
    "id": "1e8b2fca"
   },
   "source": [
    "#### 3.3 Есть ли зависимость между уровнем дохода и возвратом кредита в срок?"
   ]
  },
  {
   "cell_type": "code",
   "execution_count": 27,
   "id": "3c42dfa2",
   "metadata": {
    "deletable": false,
    "id": "cd7e3720"
   },
   "outputs": [
    {
     "name": "stdout",
     "output_type": "stream",
     "text": [
      "142594.0\n"
     ]
    }
   ],
   "source": [
    "# Ваш код будет здесь. Вы можете создавать новые ячейки.\n",
    "# рассчитаем медиану для определения среднего дохода\n",
    "# Проведем распределение по 4 категориям дохода от медианы 0,5, 1, 1,5, 2\n",
    "total_income_median = data['total_income'].median()\n",
    "print(total_income_median)\n"
   ]
  },
  {
   "cell_type": "markdown",
   "id": "112f4db1",
   "metadata": {},
   "source": [
    "Возьмем за 1 медиану зарплату в 140 000 руб.\n",
    "\n",
    "Получим следующее распределение:\n",
    "- доход до 70 000 руб\n",
    "- до 140 000 руб\n",
    "- до 210 000 руб\n",
    "- свыше 280 000 руб"
   ]
  },
  {
   "cell_type": "code",
   "execution_count": 28,
   "id": "9a87c100",
   "metadata": {},
   "outputs": [],
   "source": [
    "def categorize_income_debt(income):\n",
    "    if 0 <= income <= 70000:\n",
    "        return 'до 70 000 руб'\n",
    "    elif 70001 <= income <= 140000:\n",
    "        return 'от 70 001 до 140 000 руб'\n",
    "    elif 140001 <= income <= 210000:\n",
    "        return 'от 140 001 до 210 000 руб'\n",
    "    elif 210001 <= income <= 280000:\n",
    "        return 'от 210 001 до 280 000 руб'\n",
    "    elif income >= 280001:\n",
    "        return 'свыше 280 000 руб'\n"
   ]
  },
  {
   "cell_type": "code",
   "execution_count": 29,
   "id": "94d7ef28",
   "metadata": {},
   "outputs": [
    {
     "data": {
      "text/plain": [
       "от 70 001 до 140 000 руб     7972\n",
       "от 140 001 до 210 000 руб    7419\n",
       "от 210 001 до 280 000 руб    2597\n",
       "свыше 280 000 руб            1879\n",
       "до 70 000 руб                1464\n",
       "Name: total_income_debt_category, dtype: int64"
      ]
     },
     "metadata": {},
     "output_type": "display_data"
    }
   ],
   "source": [
    "data['total_income_debt_category'] = data['total_income'].apply(categorize_income_debt)\n",
    "display(data['total_income_debt_category'].value_counts().sort_values(ascending=False))"
   ]
  },
  {
   "cell_type": "code",
   "execution_count": 30,
   "id": "c9dab296",
   "metadata": {},
   "outputs": [
    {
     "data": {
      "text/html": [
       "<div>\n",
       "<style scoped>\n",
       "    .dataframe tbody tr th:only-of-type {\n",
       "        vertical-align: middle;\n",
       "    }\n",
       "\n",
       "    .dataframe tbody tr th {\n",
       "        vertical-align: top;\n",
       "    }\n",
       "\n",
       "    .dataframe thead tr th {\n",
       "        text-align: left;\n",
       "    }\n",
       "\n",
       "    .dataframe thead tr:last-of-type th {\n",
       "        text-align: right;\n",
       "    }\n",
       "</style>\n",
       "<table border=\"1\" class=\"dataframe\">\n",
       "  <thead>\n",
       "    <tr>\n",
       "      <th></th>\n",
       "      <th colspan=\"3\" halign=\"left\">debt</th>\n",
       "    </tr>\n",
       "    <tr>\n",
       "      <th></th>\n",
       "      <th>кол-во просрочки</th>\n",
       "      <th>кол-во обращений</th>\n",
       "      <th>доля просрочки</th>\n",
       "    </tr>\n",
       "    <tr>\n",
       "      <th>total_income_debt_category</th>\n",
       "      <th></th>\n",
       "      <th></th>\n",
       "      <th></th>\n",
       "    </tr>\n",
       "  </thead>\n",
       "  <tbody>\n",
       "    <tr>\n",
       "      <th>до 70 000 руб</th>\n",
       "      <td>101</td>\n",
       "      <td>1464</td>\n",
       "      <td>0.068989</td>\n",
       "    </tr>\n",
       "    <tr>\n",
       "      <th>от 140 001 до 210 000 руб</th>\n",
       "      <td>641</td>\n",
       "      <td>7419</td>\n",
       "      <td>0.086400</td>\n",
       "    </tr>\n",
       "    <tr>\n",
       "      <th>от 210 001 до 280 000 руб</th>\n",
       "      <td>179</td>\n",
       "      <td>2597</td>\n",
       "      <td>0.068926</td>\n",
       "    </tr>\n",
       "    <tr>\n",
       "      <th>от 70 001 до 140 000 руб</th>\n",
       "      <td>677</td>\n",
       "      <td>7972</td>\n",
       "      <td>0.084922</td>\n",
       "    </tr>\n",
       "    <tr>\n",
       "      <th>свыше 280 000 руб</th>\n",
       "      <td>134</td>\n",
       "      <td>1879</td>\n",
       "      <td>0.071315</td>\n",
       "    </tr>\n",
       "  </tbody>\n",
       "</table>\n",
       "</div>"
      ],
      "text/plain": [
       "                                       debt                                \n",
       "                           кол-во просрочки кол-во обращений доля просрочки\n",
       "total_income_debt_category                                                 \n",
       "до 70 000 руб                           101             1464       0.068989\n",
       "от 140 001 до 210 000 руб               641             7419       0.086400\n",
       "от 210 001 до 280 000 руб               179             2597       0.068926\n",
       "от 70 001 до 140 000 руб                677             7972       0.084922\n",
       "свыше 280 000 руб                       134             1879       0.071315"
      ]
     },
     "metadata": {},
     "output_type": "display_data"
    }
   ],
   "source": [
    "# сгруппируем категории дохода\n",
    "total_income_debt = data.groupby('total_income_debt_category').agg({'debt':['sum', 'count', 'mean']})\n",
    "# переименуем столбцы\n",
    "total_income_debt.rename(columns = {'sum':'кол-во просрочки', 'count':'кол-во обращений', 'mean':'доля просрочки'}, inplace = True)\n",
    "\n",
    "display(total_income_debt)"
   ]
  },
  {
   "cell_type": "markdown",
   "id": "dd8ad49f",
   "metadata": {
    "deletable": false,
    "id": "e8593def"
   },
   "source": [
    "**Вывод:** \n",
    "\n",
    "Зависимость между уровнем дохода и возвратом кредита в срок:\n",
    "1. Самый высокий процент просрочки уровень дохода от 140т.-210т. - 8,6% просрочки;\n",
    "2. Далее доход от 70т.-140т. - 8,5% просрочки;\n",
    "3. Доход свыше 280т. - 7,1% просрочки;\n",
    "4. Доход до 70т. - 6,9% просрочки;\n",
    "5. Доход от 210т.-280т. - 6,9% просрочки.\n",
    "\n",
    "Зависимости можно объяснить следующим образом:\n",
    " - Основное количество обращений для кредитования поступает от граждан с доходом от 70т.-210т. - у них же самый высокий % просрочки вероятно связан с наличием приоритетных обязательств, таких как оплата аренды квартиры, еда. \n",
    " - Просрочка для доходов свыше 280т. объясняется вероятностью наличия дополнительного кредита или поддержания текущего уровня жизни\n",
    "\n"
   ]
  },
  {
   "cell_type": "markdown",
   "id": "1504e1e7",
   "metadata": {},
   "source": [
    "<div class=\"alert alert-success\">\n",
    "<h2> Комментарий ревьюера <a class=\"tocSkip\"> </h2>\n",
    "\n",
    "<b>Все отлично!👍:</b> \n",
    "    \n",
    "Интересный способ определить категории дохода. В таких случаях также можно воспользоваться квантилями, вместо шага в 0,5.\n",
    "\n",
    "Вывод принимается"
   ]
  },
  {
   "cell_type": "markdown",
   "id": "696742ed",
   "metadata": {
    "deletable": false,
    "editable": false,
    "id": "99ecbd1f"
   },
   "source": [
    "#### 3.4 Как разные цели кредита влияют на его возврат в срок?"
   ]
  },
  {
   "cell_type": "code",
   "execution_count": 31,
   "id": "c9efc597",
   "metadata": {
    "deletable": false,
    "id": "2b687290"
   },
   "outputs": [
    {
     "data": {
      "text/html": [
       "<div>\n",
       "<style scoped>\n",
       "    .dataframe tbody tr th:only-of-type {\n",
       "        vertical-align: middle;\n",
       "    }\n",
       "\n",
       "    .dataframe tbody tr th {\n",
       "        vertical-align: top;\n",
       "    }\n",
       "\n",
       "    .dataframe thead tr th {\n",
       "        text-align: left;\n",
       "    }\n",
       "\n",
       "    .dataframe thead tr:last-of-type th {\n",
       "        text-align: right;\n",
       "    }\n",
       "</style>\n",
       "<table border=\"1\" class=\"dataframe\">\n",
       "  <thead>\n",
       "    <tr>\n",
       "      <th></th>\n",
       "      <th colspan=\"3\" halign=\"left\">debt</th>\n",
       "    </tr>\n",
       "    <tr>\n",
       "      <th></th>\n",
       "      <th>кол-во просрочки</th>\n",
       "      <th>кол-во обращений</th>\n",
       "      <th>доля просрочки</th>\n",
       "    </tr>\n",
       "    <tr>\n",
       "      <th>purpose_category</th>\n",
       "      <th></th>\n",
       "      <th></th>\n",
       "      <th></th>\n",
       "    </tr>\n",
       "  </thead>\n",
       "  <tbody>\n",
       "    <tr>\n",
       "      <th>операции с автомобилем</th>\n",
       "      <td>400</td>\n",
       "      <td>4279</td>\n",
       "      <td>0.093480</td>\n",
       "    </tr>\n",
       "    <tr>\n",
       "      <th>операции с недвижимостью</th>\n",
       "      <td>780</td>\n",
       "      <td>10751</td>\n",
       "      <td>0.072551</td>\n",
       "    </tr>\n",
       "    <tr>\n",
       "      <th>получение образования</th>\n",
       "      <td>369</td>\n",
       "      <td>3988</td>\n",
       "      <td>0.092528</td>\n",
       "    </tr>\n",
       "    <tr>\n",
       "      <th>проведение свадьбы</th>\n",
       "      <td>183</td>\n",
       "      <td>2313</td>\n",
       "      <td>0.079118</td>\n",
       "    </tr>\n",
       "  </tbody>\n",
       "</table>\n",
       "</div>"
      ],
      "text/plain": [
       "                                     debt                                \n",
       "                         кол-во просрочки кол-во обращений доля просрочки\n",
       "purpose_category                                                         \n",
       "операции с автомобилем                400             4279       0.093480\n",
       "операции с недвижимостью              780            10751       0.072551\n",
       "получение образования                 369             3988       0.092528\n",
       "проведение свадьбы                    183             2313       0.079118"
      ]
     },
     "metadata": {},
     "output_type": "display_data"
    }
   ],
   "source": [
    "# сгруппируем категории целей кредита\n",
    "total_income_debt = data.groupby('purpose_category').agg({'debt':['sum', 'count', 'mean']})\n",
    "# переименуем столбцы\n",
    "total_income_debt.rename(columns = {'sum':'кол-во просрочки', 'count':'кол-во обращений', 'mean':'доля просрочки'}, inplace = True)\n",
    "\n",
    "display(total_income_debt)# Ваш код будет здесь. Вы можете создавать новые ячейки."
   ]
  },
  {
   "cell_type": "markdown",
   "id": "1a1cc71b",
   "metadata": {
    "deletable": false,
    "id": "b4bb2ce6"
   },
   "source": [
    "**Вывод:** \n",
    "\n",
    "Зависимость между целями и возвратом кредита в срок:\n",
    "1. Самый высокий процент просрочки в категории \"операции с автомобилем\" - 9,3%;\n",
    "2. Далее \"получение образования\" - 9,3%;\n",
    "3. \"проведение свадьбы\" - 7,9%;\n",
    "4. \"операции с недвижимостью\" - 7,3%.\n",
    "\n",
    " - автомобиль требует дополнительных вложений и осмотра, также высокая амортизация, соответственно пользователи вкладывают средства на текущие потребности, откладывая оплату кредита;\n",
    " - оплачивая обучение кредитом, вероятно планируют моментально монетизировать знания, параллельно работать. Несовпадение желаний с планами или высокая загруженность. Отсюда высокий процент просрочки.  \n",
    " - за недвижимость самый маленький процент просрочки, так как это базовая потребность человека, ставят оплату в приоритет."
   ]
  },
  {
   "cell_type": "markdown",
   "id": "f71521fe",
   "metadata": {},
   "source": [
    "<div class=\"alert alert-success\">\n",
    "<h2> Комментарий ревьюера <a class=\"tocSkip\"> </h2>\n",
    "\n",
    "<b>Все отлично!👍:</b> \n",
    "    \n",
    "Умница, что выдвигаешь собственные гипотезы!"
   ]
  },
  {
   "cell_type": "markdown",
   "id": "8357acc8",
   "metadata": {
    "deletable": false,
    "editable": false,
    "id": "09c3ac4c"
   },
   "source": [
    "#### 3.5 Приведите возможные причины появления пропусков в исходных данных."
   ]
  },
  {
   "cell_type": "markdown",
   "id": "db4de296",
   "metadata": {
    "deletable": false,
    "id": "9da2ceda"
   },
   "source": [
    "*Ответ:* \n",
    "\n",
    "Возможные причины появления пропусков в данных: \n",
    "- техническая ошибка;\n",
    "- человеческий фактор;\n",
    "- отсутствие данных."
   ]
  },
  {
   "cell_type": "markdown",
   "id": "f595f635",
   "metadata": {},
   "source": [
    "<div class=\"alert alert-success\">\n",
    "<h2> Комментарий ревьюера <a class=\"tocSkip\"> </h2>\n",
    "\n",
    "<b>Все отлично!👍:</b> \n",
    "    \n",
    "Ты права, все факторы могли сыграть роль. Также добавлю, что все-таки финансы и кредиты может быть довольно чувствительной темой для людей, в связи с чем они могут просто не желать указывать о себе такую информацию"
   ]
  },
  {
   "cell_type": "markdown",
   "id": "ce5a9b10",
   "metadata": {
    "deletable": false,
    "editable": false,
    "id": "7b0487d6"
   },
   "source": [
    "#### 3.6 Объясните, почему заполнить пропуски медианным значением — лучшее решение для количественных переменных."
   ]
  },
  {
   "cell_type": "markdown",
   "id": "349b1e08",
   "metadata": {
    "deletable": false,
    "id": "7ecf2b8e"
   },
   "source": [
    "*Ответ:* \n",
    "\n",
    "Заполнять пропуски в количественных переменных лучше медианным значением, так как при выборе среднего значения, можно ошибиться в выводе, если диапазон данных будет аномальным.\n",
    "\n"
   ]
  },
  {
   "cell_type": "markdown",
   "id": "6fca073f",
   "metadata": {},
   "source": [
    "<div class=\"alert alert-success\">\n",
    "<h2> Комментарий ревьюера <a class=\"tocSkip\"> </h2>\n",
    "\n",
    "<b>Все отлично!👍:</b> \n",
    "    \n",
    "Правильно, медиана менее чувствительна к выбросам чем среднее."
   ]
  },
  {
   "cell_type": "markdown",
   "id": "32eb1a71",
   "metadata": {
    "deletable": false,
    "editable": false,
    "id": "6db5255a"
   },
   "source": [
    "### Шаг 4: общий вывод."
   ]
  },
  {
   "cell_type": "markdown",
   "id": "d1c744b1",
   "metadata": {
    "deletable": false,
    "id": "bad65432"
   },
   "source": [
    "Напишите ваш общий вывод.\n",
    "\n",
    "На основе проведенного анализа можно вывести следующие закономерности:\n",
    " - наличие детей негативно сказывается на своевременное погашение кредита;\n",
    " - клиенты с высоким доходом так же хорошо показали себя, как и клиенты с низким доходом, т.е. люди, умеющие планировать свои расходы;\n",
    " - цель кредита, закрывающая базовую потребность человека, а именно жилье - повышает возвратность кредита;\n",
    " - люди, живущие для себя, не имеющие ответственности перед семьей, имеют большой процент просрочки.\n",
    " \n",
    "**Идеальный кандидат для кредитования:**\n",
    "1. Человек, потерявший супруга/супругу, без детей, имеющий доход от 210-280тыс., с целью покупки недвижимости.\n",
    "2. Человек, с доходом до 70т., не имеющий детей, понимающий, что он может рассчитывать только на себя и умеющий эффективно распределять свой доход.\n",
    "\n",
    "**Идеальный кандидат для отказа в кредитовании:**\n",
    "1. Человек, живущий один для себя, с доходом от 140-210т., обратившегося за кредитом с целью покупки автомобиля.\n"
   ]
  },
  {
   "cell_type": "markdown",
   "id": "04fa6079",
   "metadata": {},
   "source": [
    "<div class=\"alert alert-success\">\n",
    "<h2> Комментарий ревьюера <a class=\"tocSkip\"> </h2>\n",
    "\n",
    "<b>Все отлично!👍:</b> \n",
    "    \n",
    "Ты резюмировала найденные зависимости, хорошо описала портрет идеального заемщика, а также дала некоторые рекомендации заказчику - молодец!"
   ]
  },
  {
   "cell_type": "markdown",
   "id": "935cc584",
   "metadata": {},
   "source": [
    "<div style=\"border:solid Chocolate 2px; padding: 40px\">\n",
    "\n",
    "**Общий вывод по проекту**\n",
    "\n",
    "Айгуль, спасибо за проект, ты большая молодец!\n",
    "    \n",
    "    \n",
    "* У тебя аккуратное оформление результатов\n",
    "* Верные расчеты при поиске зависимостей между переменными\n",
    "* Все расчеты сопровождены выводами и гипотезами о возможных причинах\n",
    "* У работы есть логическое завершение - хороший вывод\n",
    "\n",
    "**У меня нет замечаний к твоей работе. Проект принимаю, удачи в дальнейшем обучении!**😉"
   ]
  },
  {
   "cell_type": "code",
   "execution_count": null,
   "id": "fbddd487",
   "metadata": {},
   "outputs": [],
   "source": []
  }
 ],
 "metadata": {
  "ExecuteTimeLog": [
   {
    "duration": 761,
    "start_time": "2022-10-11T07:50:57.076Z"
   },
   {
    "duration": 29,
    "start_time": "2022-10-11T07:50:57.839Z"
   },
   {
    "duration": 17,
    "start_time": "2022-10-11T07:50:57.870Z"
   },
   {
    "duration": 32,
    "start_time": "2022-10-11T07:50:57.889Z"
   },
   {
    "duration": 42,
    "start_time": "2022-10-11T07:50:57.923Z"
   },
   {
    "duration": 3,
    "start_time": "2022-10-11T07:50:57.967Z"
   },
   {
    "duration": 23,
    "start_time": "2022-10-11T07:50:57.972Z"
   },
   {
    "duration": 24,
    "start_time": "2022-10-11T07:50:57.997Z"
   },
   {
    "duration": 36,
    "start_time": "2022-10-11T07:50:58.023Z"
   },
   {
    "duration": 37,
    "start_time": "2022-10-11T07:50:58.061Z"
   },
   {
    "duration": 45,
    "start_time": "2022-10-11T07:50:58.100Z"
   },
   {
    "duration": 10,
    "start_time": "2022-10-11T07:50:58.146Z"
   },
   {
    "duration": 17,
    "start_time": "2022-10-11T07:50:58.157Z"
   },
   {
    "duration": 21,
    "start_time": "2022-10-11T07:50:58.176Z"
   },
   {
    "duration": 41,
    "start_time": "2022-10-11T07:50:58.199Z"
   },
   {
    "duration": 31,
    "start_time": "2022-10-11T07:50:58.241Z"
   },
   {
    "duration": 5,
    "start_time": "2022-10-11T07:50:58.274Z"
   },
   {
    "duration": 25,
    "start_time": "2022-10-11T07:50:58.280Z"
   },
   {
    "duration": 21,
    "start_time": "2022-10-11T07:50:58.307Z"
   },
   {
    "duration": 23,
    "start_time": "2022-10-11T07:50:58.330Z"
   },
   {
    "duration": 9,
    "start_time": "2022-10-11T07:51:00.307Z"
   },
   {
    "duration": 4,
    "start_time": "2022-10-11T07:51:03.785Z"
   },
   {
    "duration": 10,
    "start_time": "2022-10-11T07:52:26.431Z"
   },
   {
    "duration": 10,
    "start_time": "2022-10-11T07:52:59.995Z"
   },
   {
    "duration": 73,
    "start_time": "2022-10-11T07:53:14.935Z"
   },
   {
    "duration": 19,
    "start_time": "2022-10-11T07:53:36.461Z"
   },
   {
    "duration": 13,
    "start_time": "2022-10-11T08:13:05.053Z"
   },
   {
    "duration": 7,
    "start_time": "2022-10-11T08:27:16.524Z"
   },
   {
    "duration": 7,
    "start_time": "2022-10-11T08:28:19.257Z"
   },
   {
    "duration": 7,
    "start_time": "2022-10-11T08:33:12.024Z"
   },
   {
    "duration": 3,
    "start_time": "2022-10-11T08:33:16.227Z"
   },
   {
    "duration": 13,
    "start_time": "2022-10-11T08:33:18.985Z"
   },
   {
    "duration": 10,
    "start_time": "2022-10-11T08:34:37.281Z"
   },
   {
    "duration": 12,
    "start_time": "2022-10-11T08:34:58.569Z"
   },
   {
    "duration": 9,
    "start_time": "2022-10-11T08:35:49.295Z"
   },
   {
    "duration": 20,
    "start_time": "2022-10-11T08:49:53.339Z"
   },
   {
    "duration": 82,
    "start_time": "2022-10-11T08:50:19.783Z"
   },
   {
    "duration": 15,
    "start_time": "2022-10-11T08:50:48.042Z"
   },
   {
    "duration": 31,
    "start_time": "2022-10-11T08:51:40.549Z"
   },
   {
    "duration": 18,
    "start_time": "2022-10-11T08:51:59.439Z"
   },
   {
    "duration": 17,
    "start_time": "2022-10-11T08:53:35.342Z"
   },
   {
    "duration": 10,
    "start_time": "2022-10-11T08:54:20.967Z"
   },
   {
    "duration": 15,
    "start_time": "2022-10-11T08:54:38.945Z"
   },
   {
    "duration": 482,
    "start_time": "2022-10-11T09:16:38.663Z"
   },
   {
    "duration": 24,
    "start_time": "2022-10-11T09:16:39.147Z"
   },
   {
    "duration": 15,
    "start_time": "2022-10-11T09:16:39.173Z"
   },
   {
    "duration": 31,
    "start_time": "2022-10-11T09:16:39.190Z"
   },
   {
    "duration": 34,
    "start_time": "2022-10-11T09:16:39.223Z"
   },
   {
    "duration": 4,
    "start_time": "2022-10-11T09:16:39.259Z"
   },
   {
    "duration": 13,
    "start_time": "2022-10-11T09:16:39.264Z"
   },
   {
    "duration": 4,
    "start_time": "2022-10-11T09:16:39.279Z"
   },
   {
    "duration": 8,
    "start_time": "2022-10-11T09:16:39.285Z"
   },
   {
    "duration": 5,
    "start_time": "2022-10-11T09:16:39.320Z"
   },
   {
    "duration": 35,
    "start_time": "2022-10-11T09:16:39.327Z"
   },
   {
    "duration": 9,
    "start_time": "2022-10-11T09:16:39.364Z"
   },
   {
    "duration": 14,
    "start_time": "2022-10-11T09:16:39.375Z"
   },
   {
    "duration": 13,
    "start_time": "2022-10-11T09:16:39.392Z"
   },
   {
    "duration": 20,
    "start_time": "2022-10-11T09:16:39.420Z"
   },
   {
    "duration": 18,
    "start_time": "2022-10-11T09:16:39.442Z"
   },
   {
    "duration": 3,
    "start_time": "2022-10-11T09:16:39.462Z"
   },
   {
    "duration": 16,
    "start_time": "2022-10-11T09:16:39.467Z"
   },
   {
    "duration": 5,
    "start_time": "2022-10-11T09:16:39.485Z"
   },
   {
    "duration": 31,
    "start_time": "2022-10-11T09:16:39.492Z"
   },
   {
    "duration": 20,
    "start_time": "2022-10-11T09:16:39.525Z"
   },
   {
    "duration": 7,
    "start_time": "2022-10-11T09:16:39.547Z"
   },
   {
    "duration": 13,
    "start_time": "2022-10-11T09:16:39.556Z"
   },
   {
    "duration": 19,
    "start_time": "2022-10-11T09:16:39.571Z"
   },
   {
    "duration": 2,
    "start_time": "2022-10-11T09:16:39.592Z"
   },
   {
    "duration": 25,
    "start_time": "2022-10-11T09:16:39.596Z"
   },
   {
    "duration": 3,
    "start_time": "2022-10-11T09:16:39.623Z"
   },
   {
    "duration": 461,
    "start_time": "2022-10-11T09:18:17.039Z"
   },
   {
    "duration": 22,
    "start_time": "2022-10-11T09:18:17.502Z"
   },
   {
    "duration": 16,
    "start_time": "2022-10-11T09:18:17.526Z"
   },
   {
    "duration": 10,
    "start_time": "2022-10-11T09:18:17.545Z"
   },
   {
    "duration": 38,
    "start_time": "2022-10-11T09:18:17.556Z"
   },
   {
    "duration": 4,
    "start_time": "2022-10-11T09:18:17.596Z"
   },
   {
    "duration": 22,
    "start_time": "2022-10-11T09:18:17.601Z"
   },
   {
    "duration": 8,
    "start_time": "2022-10-11T09:18:17.624Z"
   },
   {
    "duration": 9,
    "start_time": "2022-10-11T09:18:17.633Z"
   },
   {
    "duration": 4,
    "start_time": "2022-10-11T09:18:17.646Z"
   },
   {
    "duration": 34,
    "start_time": "2022-10-11T09:18:17.652Z"
   },
   {
    "duration": 36,
    "start_time": "2022-10-11T09:18:17.688Z"
   },
   {
    "duration": 5,
    "start_time": "2022-10-11T09:18:17.726Z"
   },
   {
    "duration": 23,
    "start_time": "2022-10-11T09:18:17.732Z"
   },
   {
    "duration": 22,
    "start_time": "2022-10-11T09:18:17.757Z"
   },
   {
    "duration": 18,
    "start_time": "2022-10-11T09:18:17.780Z"
   },
   {
    "duration": 3,
    "start_time": "2022-10-11T09:18:17.800Z"
   },
   {
    "duration": 50,
    "start_time": "2022-10-11T09:18:17.804Z"
   },
   {
    "duration": 10,
    "start_time": "2022-10-11T09:18:17.856Z"
   },
   {
    "duration": 5,
    "start_time": "2022-10-11T09:18:17.868Z"
   },
   {
    "duration": 16,
    "start_time": "2022-10-11T09:18:17.875Z"
   },
   {
    "duration": 8,
    "start_time": "2022-10-11T09:18:17.893Z"
   },
   {
    "duration": 18,
    "start_time": "2022-10-11T09:18:17.903Z"
   },
   {
    "duration": 20,
    "start_time": "2022-10-11T09:18:17.923Z"
   },
   {
    "duration": 3,
    "start_time": "2022-10-11T09:18:17.944Z"
   },
   {
    "duration": 5,
    "start_time": "2022-10-11T09:18:17.948Z"
   },
   {
    "duration": 8,
    "start_time": "2022-10-11T09:18:17.955Z"
   },
   {
    "duration": 68,
    "start_time": "2022-10-11T09:18:55.486Z"
   },
   {
    "duration": 8,
    "start_time": "2022-10-11T09:19:41.967Z"
   },
   {
    "duration": 4,
    "start_time": "2022-10-11T09:21:31.837Z"
   },
   {
    "duration": 15,
    "start_time": "2022-10-11T09:21:34.168Z"
   },
   {
    "duration": 3,
    "start_time": "2022-10-11T09:22:02.121Z"
   },
   {
    "duration": 11,
    "start_time": "2022-10-11T09:22:05.022Z"
   },
   {
    "duration": 507,
    "start_time": "2022-10-11T09:22:17.799Z"
   },
   {
    "duration": 22,
    "start_time": "2022-10-11T09:22:18.308Z"
   },
   {
    "duration": 16,
    "start_time": "2022-10-11T09:22:18.332Z"
   },
   {
    "duration": 9,
    "start_time": "2022-10-11T09:22:18.350Z"
   },
   {
    "duration": 33,
    "start_time": "2022-10-11T09:22:18.361Z"
   },
   {
    "duration": 24,
    "start_time": "2022-10-11T09:22:18.396Z"
   },
   {
    "duration": 8,
    "start_time": "2022-10-11T09:22:18.423Z"
   },
   {
    "duration": 8,
    "start_time": "2022-10-11T09:22:18.433Z"
   },
   {
    "duration": 9,
    "start_time": "2022-10-11T09:22:18.442Z"
   },
   {
    "duration": 6,
    "start_time": "2022-10-11T09:22:18.456Z"
   },
   {
    "duration": 58,
    "start_time": "2022-10-11T09:22:18.464Z"
   },
   {
    "duration": 9,
    "start_time": "2022-10-11T09:22:18.524Z"
   },
   {
    "duration": 3,
    "start_time": "2022-10-11T09:22:18.535Z"
   },
   {
    "duration": 16,
    "start_time": "2022-10-11T09:22:18.540Z"
   },
   {
    "duration": 28,
    "start_time": "2022-10-11T09:22:18.558Z"
   },
   {
    "duration": 36,
    "start_time": "2022-10-11T09:22:18.587Z"
   },
   {
    "duration": 3,
    "start_time": "2022-10-11T09:22:18.625Z"
   },
   {
    "duration": 15,
    "start_time": "2022-10-11T09:22:18.630Z"
   },
   {
    "duration": 6,
    "start_time": "2022-10-11T09:22:18.646Z"
   },
   {
    "duration": 4,
    "start_time": "2022-10-11T09:22:18.654Z"
   },
   {
    "duration": 25,
    "start_time": "2022-10-11T09:22:18.659Z"
   },
   {
    "duration": 4,
    "start_time": "2022-10-11T09:22:18.686Z"
   },
   {
    "duration": 32,
    "start_time": "2022-10-11T09:22:18.691Z"
   },
   {
    "duration": 18,
    "start_time": "2022-10-11T09:22:18.725Z"
   },
   {
    "duration": 6,
    "start_time": "2022-10-11T09:22:18.744Z"
   },
   {
    "duration": 7,
    "start_time": "2022-10-11T09:22:18.752Z"
   },
   {
    "duration": 6,
    "start_time": "2022-10-11T09:22:18.760Z"
   },
   {
    "duration": 4,
    "start_time": "2022-10-11T09:36:54.071Z"
   },
   {
    "duration": 4,
    "start_time": "2022-10-11T09:37:31.954Z"
   },
   {
    "duration": 3,
    "start_time": "2022-10-11T09:37:35.769Z"
   },
   {
    "duration": 69,
    "start_time": "2022-10-11T09:39:26.359Z"
   },
   {
    "duration": 13,
    "start_time": "2022-10-11T09:40:50.151Z"
   },
   {
    "duration": 7,
    "start_time": "2022-10-11T09:41:15.606Z"
   },
   {
    "duration": 7,
    "start_time": "2022-10-11T09:41:56.944Z"
   },
   {
    "duration": 16,
    "start_time": "2022-10-11T09:42:33.574Z"
   },
   {
    "duration": 19,
    "start_time": "2022-10-11T09:42:36.761Z"
   },
   {
    "duration": 15,
    "start_time": "2022-10-11T09:43:42.013Z"
   },
   {
    "duration": 16,
    "start_time": "2022-10-11T09:58:23.255Z"
   },
   {
    "duration": 20,
    "start_time": "2022-10-11T09:58:48.844Z"
   },
   {
    "duration": 15,
    "start_time": "2022-10-11T09:59:55.885Z"
   },
   {
    "duration": 18,
    "start_time": "2022-10-11T10:00:52.900Z"
   },
   {
    "duration": 18,
    "start_time": "2022-10-11T10:01:27.603Z"
   },
   {
    "duration": 17,
    "start_time": "2022-10-11T10:01:45.984Z"
   },
   {
    "duration": 21,
    "start_time": "2022-10-11T10:02:57.892Z"
   },
   {
    "duration": 19,
    "start_time": "2022-10-11T10:03:09.017Z"
   },
   {
    "duration": 123,
    "start_time": "2022-10-11T10:12:30.962Z"
   },
   {
    "duration": 17,
    "start_time": "2022-10-11T10:12:44.800Z"
   },
   {
    "duration": 19,
    "start_time": "2022-10-11T10:14:25.391Z"
   },
   {
    "duration": 21,
    "start_time": "2022-10-11T10:16:47.501Z"
   },
   {
    "duration": 17,
    "start_time": "2022-10-11T10:20:02.926Z"
   },
   {
    "duration": 20,
    "start_time": "2022-10-11T10:20:18.631Z"
   },
   {
    "duration": 12,
    "start_time": "2022-10-11T10:26:19.588Z"
   },
   {
    "duration": 23,
    "start_time": "2022-10-11T10:26:49.052Z"
   },
   {
    "duration": 24,
    "start_time": "2022-10-11T10:29:46.915Z"
   },
   {
    "duration": 21,
    "start_time": "2022-10-11T10:29:59.500Z"
   },
   {
    "duration": 5,
    "start_time": "2022-10-11T10:43:31.329Z"
   },
   {
    "duration": 13,
    "start_time": "2022-10-11T10:43:41.324Z"
   },
   {
    "duration": 12,
    "start_time": "2022-10-11T10:44:04.768Z"
   },
   {
    "duration": 43,
    "start_time": "2022-10-11T10:44:17.788Z"
   },
   {
    "duration": 11,
    "start_time": "2022-10-11T10:44:29.986Z"
   },
   {
    "duration": 45,
    "start_time": "2022-10-11T10:44:38.248Z"
   },
   {
    "duration": 13,
    "start_time": "2022-10-11T10:45:06.765Z"
   },
   {
    "duration": 30,
    "start_time": "2022-10-11T10:45:13.546Z"
   },
   {
    "duration": 36,
    "start_time": "2022-10-11T10:45:28.588Z"
   },
   {
    "duration": 29,
    "start_time": "2022-10-11T10:49:10.242Z"
   },
   {
    "duration": 47,
    "start_time": "2022-10-11T16:34:08.528Z"
   },
   {
    "duration": 7,
    "start_time": "2022-10-11T16:34:31.956Z"
   },
   {
    "duration": 6,
    "start_time": "2022-10-11T16:34:37.126Z"
   },
   {
    "duration": 6,
    "start_time": "2022-10-11T16:52:30.926Z"
   },
   {
    "duration": 7,
    "start_time": "2022-10-11T16:52:43.987Z"
   },
   {
    "duration": 530,
    "start_time": "2022-10-11T16:53:45.994Z"
   },
   {
    "duration": 33,
    "start_time": "2022-10-11T16:53:46.527Z"
   },
   {
    "duration": 31,
    "start_time": "2022-10-11T16:53:46.565Z"
   },
   {
    "duration": 12,
    "start_time": "2022-10-11T16:53:46.599Z"
   },
   {
    "duration": 54,
    "start_time": "2022-10-11T16:53:46.613Z"
   },
   {
    "duration": 4,
    "start_time": "2022-10-11T16:53:46.670Z"
   },
   {
    "duration": 35,
    "start_time": "2022-10-11T16:53:46.677Z"
   },
   {
    "duration": 5,
    "start_time": "2022-10-11T16:53:46.714Z"
   },
   {
    "duration": 17,
    "start_time": "2022-10-11T16:53:46.721Z"
   },
   {
    "duration": 6,
    "start_time": "2022-10-11T16:53:46.740Z"
   },
   {
    "duration": 67,
    "start_time": "2022-10-11T16:53:46.747Z"
   },
   {
    "duration": 12,
    "start_time": "2022-10-11T16:53:46.816Z"
   },
   {
    "duration": 5,
    "start_time": "2022-10-11T16:53:46.832Z"
   },
   {
    "duration": 19,
    "start_time": "2022-10-11T16:53:46.839Z"
   },
   {
    "duration": 51,
    "start_time": "2022-10-11T16:53:46.861Z"
   },
   {
    "duration": 23,
    "start_time": "2022-10-11T16:53:46.914Z"
   },
   {
    "duration": 4,
    "start_time": "2022-10-11T16:53:46.939Z"
   },
   {
    "duration": 31,
    "start_time": "2022-10-11T16:53:46.946Z"
   },
   {
    "duration": 7,
    "start_time": "2022-10-11T16:53:46.996Z"
   },
   {
    "duration": 7,
    "start_time": "2022-10-11T16:53:47.005Z"
   },
   {
    "duration": 20,
    "start_time": "2022-10-11T16:53:47.015Z"
   },
   {
    "duration": 5,
    "start_time": "2022-10-11T16:53:47.037Z"
   },
   {
    "duration": 20,
    "start_time": "2022-10-11T16:53:47.044Z"
   },
   {
    "duration": 58,
    "start_time": "2022-10-11T16:53:47.066Z"
   },
   {
    "duration": 3,
    "start_time": "2022-10-11T16:53:47.125Z"
   },
   {
    "duration": 5,
    "start_time": "2022-10-11T16:53:47.130Z"
   },
   {
    "duration": 6,
    "start_time": "2022-10-11T16:53:47.137Z"
   },
   {
    "duration": 26,
    "start_time": "2022-10-11T16:53:57.489Z"
   },
   {
    "duration": 50,
    "start_time": "2022-10-12T09:03:21.898Z"
   },
   {
    "duration": 7,
    "start_time": "2022-10-12T09:03:36.668Z"
   },
   {
    "duration": 678,
    "start_time": "2022-10-12T09:03:43.424Z"
   },
   {
    "duration": 21,
    "start_time": "2022-10-12T09:03:44.104Z"
   },
   {
    "duration": 20,
    "start_time": "2022-10-12T09:03:44.127Z"
   },
   {
    "duration": 39,
    "start_time": "2022-10-12T09:03:44.149Z"
   },
   {
    "duration": 78,
    "start_time": "2022-10-12T09:03:44.190Z"
   },
   {
    "duration": 6,
    "start_time": "2022-10-12T09:03:44.270Z"
   },
   {
    "duration": 53,
    "start_time": "2022-10-12T09:03:44.278Z"
   },
   {
    "duration": 44,
    "start_time": "2022-10-12T09:03:44.332Z"
   },
   {
    "duration": 27,
    "start_time": "2022-10-12T09:03:44.377Z"
   },
   {
    "duration": 27,
    "start_time": "2022-10-12T09:03:44.407Z"
   },
   {
    "duration": 70,
    "start_time": "2022-10-12T09:03:44.435Z"
   },
   {
    "duration": 20,
    "start_time": "2022-10-12T09:03:44.507Z"
   },
   {
    "duration": 57,
    "start_time": "2022-10-12T09:03:44.528Z"
   },
   {
    "duration": 23,
    "start_time": "2022-10-12T09:03:44.587Z"
   },
   {
    "duration": 47,
    "start_time": "2022-10-12T09:03:44.613Z"
   },
   {
    "duration": 27,
    "start_time": "2022-10-12T09:03:44.661Z"
   },
   {
    "duration": 4,
    "start_time": "2022-10-12T09:03:44.690Z"
   },
   {
    "duration": 19,
    "start_time": "2022-10-12T09:03:44.695Z"
   },
   {
    "duration": 23,
    "start_time": "2022-10-12T09:03:44.716Z"
   },
   {
    "duration": 8,
    "start_time": "2022-10-12T09:03:44.740Z"
   },
   {
    "duration": 22,
    "start_time": "2022-10-12T09:03:44.750Z"
   },
   {
    "duration": 18,
    "start_time": "2022-10-12T09:03:44.774Z"
   },
   {
    "duration": 20,
    "start_time": "2022-10-12T09:03:44.793Z"
   },
   {
    "duration": 77,
    "start_time": "2022-10-12T09:03:44.815Z"
   },
   {
    "duration": 0,
    "start_time": "2022-10-12T09:03:44.893Z"
   },
   {
    "duration": 0,
    "start_time": "2022-10-12T09:03:44.895Z"
   },
   {
    "duration": 0,
    "start_time": "2022-10-12T09:03:44.896Z"
   },
   {
    "duration": 44,
    "start_time": "2022-10-12T09:04:09.005Z"
   },
   {
    "duration": 32,
    "start_time": "2022-10-12T09:05:19.531Z"
   },
   {
    "duration": 30,
    "start_time": "2022-10-12T09:05:35.844Z"
   },
   {
    "duration": 29,
    "start_time": "2022-10-12T09:06:17.117Z"
   },
   {
    "duration": 32,
    "start_time": "2022-10-12T09:08:02.985Z"
   },
   {
    "duration": 47,
    "start_time": "2022-10-12T09:09:52.532Z"
   },
   {
    "duration": 30,
    "start_time": "2022-10-12T09:09:57.774Z"
   },
   {
    "duration": 26,
    "start_time": "2022-10-12T09:11:44.350Z"
   },
   {
    "duration": 467,
    "start_time": "2022-10-12T09:11:55.735Z"
   },
   {
    "duration": 22,
    "start_time": "2022-10-12T09:11:56.204Z"
   },
   {
    "duration": 15,
    "start_time": "2022-10-12T09:11:56.227Z"
   },
   {
    "duration": 21,
    "start_time": "2022-10-12T09:11:56.245Z"
   },
   {
    "duration": 39,
    "start_time": "2022-10-12T09:11:56.267Z"
   },
   {
    "duration": 14,
    "start_time": "2022-10-12T09:11:56.308Z"
   },
   {
    "duration": 15,
    "start_time": "2022-10-12T09:11:56.324Z"
   },
   {
    "duration": 7,
    "start_time": "2022-10-12T09:11:56.341Z"
   },
   {
    "duration": 8,
    "start_time": "2022-10-12T09:11:56.350Z"
   },
   {
    "duration": 4,
    "start_time": "2022-10-12T09:11:56.362Z"
   },
   {
    "duration": 56,
    "start_time": "2022-10-12T09:11:56.368Z"
   },
   {
    "duration": 10,
    "start_time": "2022-10-12T09:11:56.426Z"
   },
   {
    "duration": 15,
    "start_time": "2022-10-12T09:11:56.437Z"
   },
   {
    "duration": 14,
    "start_time": "2022-10-12T09:11:56.453Z"
   },
   {
    "duration": 22,
    "start_time": "2022-10-12T09:11:56.468Z"
   },
   {
    "duration": 32,
    "start_time": "2022-10-12T09:11:56.492Z"
   },
   {
    "duration": 3,
    "start_time": "2022-10-12T09:11:56.526Z"
   },
   {
    "duration": 31,
    "start_time": "2022-10-12T09:11:56.530Z"
   },
   {
    "duration": 17,
    "start_time": "2022-10-12T09:11:56.563Z"
   },
   {
    "duration": 8,
    "start_time": "2022-10-12T09:11:56.582Z"
   },
   {
    "duration": 16,
    "start_time": "2022-10-12T09:11:56.591Z"
   },
   {
    "duration": 4,
    "start_time": "2022-10-12T09:11:56.609Z"
   },
   {
    "duration": 24,
    "start_time": "2022-10-12T09:11:56.615Z"
   },
   {
    "duration": 36,
    "start_time": "2022-10-12T09:11:56.641Z"
   },
   {
    "duration": 3,
    "start_time": "2022-10-12T09:11:56.678Z"
   },
   {
    "duration": 24,
    "start_time": "2022-10-12T09:11:56.683Z"
   },
   {
    "duration": 36,
    "start_time": "2022-10-12T09:11:56.709Z"
   },
   {
    "duration": 138,
    "start_time": "2022-10-12T09:30:14.402Z"
   },
   {
    "duration": 63,
    "start_time": "2022-10-12T09:30:28.261Z"
   },
   {
    "duration": 7,
    "start_time": "2022-10-12T09:30:41.474Z"
   },
   {
    "duration": 27,
    "start_time": "2022-10-12T09:30:50.988Z"
   },
   {
    "duration": 5,
    "start_time": "2022-10-12T10:14:31.469Z"
   },
   {
    "duration": 6,
    "start_time": "2022-10-12T10:14:52.438Z"
   },
   {
    "duration": 290,
    "start_time": "2022-10-12T10:16:58.777Z"
   },
   {
    "duration": 13,
    "start_time": "2022-10-12T10:17:23.925Z"
   },
   {
    "duration": 21,
    "start_time": "2022-10-12T10:17:50.344Z"
   },
   {
    "duration": 15,
    "start_time": "2022-10-12T10:21:13.710Z"
   },
   {
    "duration": 4,
    "start_time": "2022-10-12T10:22:42.954Z"
   },
   {
    "duration": 6,
    "start_time": "2022-10-12T10:23:15.169Z"
   },
   {
    "duration": 25,
    "start_time": "2022-10-12T10:23:29.038Z"
   },
   {
    "duration": 9,
    "start_time": "2022-10-12T10:23:50.942Z"
   },
   {
    "duration": 392,
    "start_time": "2022-10-12T10:27:14.952Z"
   },
   {
    "duration": 16,
    "start_time": "2022-10-12T10:27:41.098Z"
   },
   {
    "duration": 14,
    "start_time": "2022-10-12T10:28:58.821Z"
   },
   {
    "duration": 16,
    "start_time": "2022-10-12T10:30:11.055Z"
   },
   {
    "duration": 1283,
    "start_time": "2022-10-12T10:31:10.982Z"
   },
   {
    "duration": 459,
    "start_time": "2022-10-12T10:31:22.854Z"
   },
   {
    "duration": 26,
    "start_time": "2022-10-12T10:31:23.315Z"
   },
   {
    "duration": 40,
    "start_time": "2022-10-12T10:31:23.342Z"
   },
   {
    "duration": 19,
    "start_time": "2022-10-12T10:31:23.384Z"
   },
   {
    "duration": 43,
    "start_time": "2022-10-12T10:31:23.404Z"
   },
   {
    "duration": 4,
    "start_time": "2022-10-12T10:31:23.448Z"
   },
   {
    "duration": 33,
    "start_time": "2022-10-12T10:31:23.454Z"
   },
   {
    "duration": 14,
    "start_time": "2022-10-12T10:31:23.489Z"
   },
   {
    "duration": 21,
    "start_time": "2022-10-12T10:31:23.505Z"
   },
   {
    "duration": 10,
    "start_time": "2022-10-12T10:31:23.529Z"
   },
   {
    "duration": 63,
    "start_time": "2022-10-12T10:31:23.540Z"
   },
   {
    "duration": 10,
    "start_time": "2022-10-12T10:31:23.604Z"
   },
   {
    "duration": 28,
    "start_time": "2022-10-12T10:31:23.615Z"
   },
   {
    "duration": 23,
    "start_time": "2022-10-12T10:31:23.644Z"
   },
   {
    "duration": 30,
    "start_time": "2022-10-12T10:31:23.669Z"
   },
   {
    "duration": 27,
    "start_time": "2022-10-12T10:31:23.700Z"
   },
   {
    "duration": 34,
    "start_time": "2022-10-12T10:31:23.729Z"
   },
   {
    "duration": 45,
    "start_time": "2022-10-12T10:31:23.764Z"
   },
   {
    "duration": 29,
    "start_time": "2022-10-12T10:31:23.811Z"
   },
   {
    "duration": 48,
    "start_time": "2022-10-12T10:31:23.842Z"
   },
   {
    "duration": 36,
    "start_time": "2022-10-12T10:31:23.892Z"
   },
   {
    "duration": 32,
    "start_time": "2022-10-12T10:31:23.930Z"
   },
   {
    "duration": 45,
    "start_time": "2022-10-12T10:31:23.964Z"
   },
   {
    "duration": 50,
    "start_time": "2022-10-12T10:31:24.011Z"
   },
   {
    "duration": 1704,
    "start_time": "2022-10-12T10:31:24.063Z"
   },
   {
    "duration": 0,
    "start_time": "2022-10-12T10:31:25.769Z"
   },
   {
    "duration": 0,
    "start_time": "2022-10-12T10:31:25.770Z"
   },
   {
    "duration": 11,
    "start_time": "2022-10-12T10:31:55.546Z"
   },
   {
    "duration": 27,
    "start_time": "2022-10-12T10:33:46.225Z"
   },
   {
    "duration": 464,
    "start_time": "2022-10-12T10:33:57.570Z"
   },
   {
    "duration": 24,
    "start_time": "2022-10-12T10:33:58.036Z"
   },
   {
    "duration": 16,
    "start_time": "2022-10-12T10:33:58.062Z"
   },
   {
    "duration": 9,
    "start_time": "2022-10-12T10:33:58.080Z"
   },
   {
    "duration": 66,
    "start_time": "2022-10-12T10:33:58.091Z"
   },
   {
    "duration": 4,
    "start_time": "2022-10-12T10:33:58.158Z"
   },
   {
    "duration": 17,
    "start_time": "2022-10-12T10:33:58.164Z"
   },
   {
    "duration": 6,
    "start_time": "2022-10-12T10:33:58.183Z"
   },
   {
    "duration": 19,
    "start_time": "2022-10-12T10:33:58.191Z"
   },
   {
    "duration": 18,
    "start_time": "2022-10-12T10:33:58.213Z"
   },
   {
    "duration": 41,
    "start_time": "2022-10-12T10:33:58.234Z"
   },
   {
    "duration": 10,
    "start_time": "2022-10-12T10:33:58.276Z"
   },
   {
    "duration": 6,
    "start_time": "2022-10-12T10:33:58.287Z"
   },
   {
    "duration": 22,
    "start_time": "2022-10-12T10:33:58.295Z"
   },
   {
    "duration": 40,
    "start_time": "2022-10-12T10:33:58.321Z"
   },
   {
    "duration": 17,
    "start_time": "2022-10-12T10:33:58.363Z"
   },
   {
    "duration": 4,
    "start_time": "2022-10-12T10:33:58.382Z"
   },
   {
    "duration": 19,
    "start_time": "2022-10-12T10:33:58.387Z"
   },
   {
    "duration": 10,
    "start_time": "2022-10-12T10:33:58.408Z"
   },
   {
    "duration": 7,
    "start_time": "2022-10-12T10:33:58.427Z"
   },
   {
    "duration": 22,
    "start_time": "2022-10-12T10:33:58.437Z"
   },
   {
    "duration": 16,
    "start_time": "2022-10-12T10:33:58.461Z"
   },
   {
    "duration": 47,
    "start_time": "2022-10-12T10:33:58.479Z"
   },
   {
    "duration": 43,
    "start_time": "2022-10-12T10:33:58.528Z"
   },
   {
    "duration": 11,
    "start_time": "2022-10-12T10:33:58.572Z"
   },
   {
    "duration": 28,
    "start_time": "2022-10-12T10:33:58.585Z"
   },
   {
    "duration": 6,
    "start_time": "2022-10-12T10:33:58.615Z"
   },
   {
    "duration": 27,
    "start_time": "2022-10-12T10:42:37.765Z"
   },
   {
    "duration": 531,
    "start_time": "2022-10-12T10:42:52.390Z"
   },
   {
    "duration": 38,
    "start_time": "2022-10-12T10:42:52.923Z"
   },
   {
    "duration": 23,
    "start_time": "2022-10-12T10:42:52.963Z"
   },
   {
    "duration": 43,
    "start_time": "2022-10-12T10:42:52.989Z"
   },
   {
    "duration": 60,
    "start_time": "2022-10-12T10:42:53.033Z"
   },
   {
    "duration": 7,
    "start_time": "2022-10-12T10:42:53.095Z"
   },
   {
    "duration": 46,
    "start_time": "2022-10-12T10:42:53.105Z"
   },
   {
    "duration": 24,
    "start_time": "2022-10-12T10:42:53.154Z"
   },
   {
    "duration": 35,
    "start_time": "2022-10-12T10:42:53.181Z"
   },
   {
    "duration": 23,
    "start_time": "2022-10-12T10:42:53.223Z"
   },
   {
    "duration": 76,
    "start_time": "2022-10-12T10:42:53.249Z"
   },
   {
    "duration": 10,
    "start_time": "2022-10-12T10:42:53.327Z"
   },
   {
    "duration": 35,
    "start_time": "2022-10-12T10:42:53.338Z"
   },
   {
    "duration": 58,
    "start_time": "2022-10-12T10:42:53.374Z"
   },
   {
    "duration": 55,
    "start_time": "2022-10-12T10:42:53.433Z"
   },
   {
    "duration": 24,
    "start_time": "2022-10-12T10:42:53.489Z"
   },
   {
    "duration": 15,
    "start_time": "2022-10-12T10:42:53.514Z"
   },
   {
    "duration": 40,
    "start_time": "2022-10-12T10:42:53.530Z"
   },
   {
    "duration": 41,
    "start_time": "2022-10-12T10:42:53.572Z"
   },
   {
    "duration": 62,
    "start_time": "2022-10-12T10:42:53.615Z"
   },
   {
    "duration": 41,
    "start_time": "2022-10-12T10:42:53.679Z"
   },
   {
    "duration": 37,
    "start_time": "2022-10-12T10:42:53.721Z"
   },
   {
    "duration": 17,
    "start_time": "2022-10-12T10:42:53.759Z"
   },
   {
    "duration": 76,
    "start_time": "2022-10-12T10:42:53.778Z"
   },
   {
    "duration": 18,
    "start_time": "2022-10-12T10:42:53.857Z"
   },
   {
    "duration": 7,
    "start_time": "2022-10-12T10:42:53.877Z"
   },
   {
    "duration": 41,
    "start_time": "2022-10-12T10:42:53.886Z"
   },
   {
    "duration": 23,
    "start_time": "2022-10-12T10:55:16.594Z"
   },
   {
    "duration": 35,
    "start_time": "2022-10-12T10:55:30.237Z"
   },
   {
    "duration": 15,
    "start_time": "2022-10-12T10:55:42.651Z"
   },
   {
    "duration": 12,
    "start_time": "2022-10-12T10:55:51.004Z"
   },
   {
    "duration": 17,
    "start_time": "2022-10-12T11:00:25.357Z"
   },
   {
    "duration": 17,
    "start_time": "2022-10-12T11:00:38.525Z"
   },
   {
    "duration": 16,
    "start_time": "2022-10-12T11:00:50.957Z"
   },
   {
    "duration": 32,
    "start_time": "2022-10-12T11:01:58.762Z"
   },
   {
    "duration": 71,
    "start_time": "2022-10-12T11:05:45.778Z"
   },
   {
    "duration": 31,
    "start_time": "2022-10-12T11:05:57.643Z"
   },
   {
    "duration": 509,
    "start_time": "2022-10-12T11:09:01.612Z"
   },
   {
    "duration": 27,
    "start_time": "2022-10-12T11:09:02.123Z"
   },
   {
    "duration": 64,
    "start_time": "2022-10-12T11:09:02.152Z"
   },
   {
    "duration": 54,
    "start_time": "2022-10-12T11:09:02.218Z"
   },
   {
    "duration": 67,
    "start_time": "2022-10-12T11:09:02.273Z"
   },
   {
    "duration": 4,
    "start_time": "2022-10-12T11:09:02.342Z"
   },
   {
    "duration": 45,
    "start_time": "2022-10-12T11:09:02.348Z"
   },
   {
    "duration": 39,
    "start_time": "2022-10-12T11:09:02.395Z"
   },
   {
    "duration": 18,
    "start_time": "2022-10-12T11:09:02.435Z"
   },
   {
    "duration": 14,
    "start_time": "2022-10-12T11:09:02.456Z"
   },
   {
    "duration": 73,
    "start_time": "2022-10-12T11:09:02.472Z"
   },
   {
    "duration": 25,
    "start_time": "2022-10-12T11:09:02.547Z"
   },
   {
    "duration": 27,
    "start_time": "2022-10-12T11:09:02.574Z"
   },
   {
    "duration": 35,
    "start_time": "2022-10-12T11:09:02.603Z"
   },
   {
    "duration": 55,
    "start_time": "2022-10-12T11:09:02.640Z"
   },
   {
    "duration": 18,
    "start_time": "2022-10-12T11:09:02.697Z"
   },
   {
    "duration": 3,
    "start_time": "2022-10-12T11:09:02.717Z"
   },
   {
    "duration": 33,
    "start_time": "2022-10-12T11:09:02.723Z"
   },
   {
    "duration": 16,
    "start_time": "2022-10-12T11:09:02.757Z"
   },
   {
    "duration": 8,
    "start_time": "2022-10-12T11:09:02.775Z"
   },
   {
    "duration": 24,
    "start_time": "2022-10-12T11:09:02.784Z"
   },
   {
    "duration": 12,
    "start_time": "2022-10-12T11:09:02.810Z"
   },
   {
    "duration": 15,
    "start_time": "2022-10-12T11:09:02.823Z"
   },
   {
    "duration": 39,
    "start_time": "2022-10-12T11:09:02.840Z"
   },
   {
    "duration": 16,
    "start_time": "2022-10-12T11:09:02.881Z"
   },
   {
    "duration": 22,
    "start_time": "2022-10-12T11:09:02.899Z"
   },
   {
    "duration": 7,
    "start_time": "2022-10-12T11:09:02.922Z"
   },
   {
    "duration": 15,
    "start_time": "2022-10-12T12:06:20.852Z"
   },
   {
    "duration": 3,
    "start_time": "2022-10-12T12:30:49.190Z"
   },
   {
    "duration": 17,
    "start_time": "2022-10-12T12:30:55.370Z"
   },
   {
    "duration": 6,
    "start_time": "2022-10-12T12:33:39.026Z"
   },
   {
    "duration": 4,
    "start_time": "2022-10-12T12:34:51.411Z"
   },
   {
    "duration": 5,
    "start_time": "2022-10-12T12:34:57.764Z"
   },
   {
    "duration": 12,
    "start_time": "2022-10-12T12:57:19.311Z"
   },
   {
    "duration": 63,
    "start_time": "2022-10-12T12:58:02.363Z"
   },
   {
    "duration": 7,
    "start_time": "2022-10-12T12:58:18.278Z"
   },
   {
    "duration": 436,
    "start_time": "2022-10-12T12:59:04.264Z"
   },
   {
    "duration": 22,
    "start_time": "2022-10-12T12:59:04.702Z"
   },
   {
    "duration": 15,
    "start_time": "2022-10-12T12:59:04.726Z"
   },
   {
    "duration": 12,
    "start_time": "2022-10-12T12:59:04.743Z"
   },
   {
    "duration": 41,
    "start_time": "2022-10-12T12:59:04.756Z"
   },
   {
    "duration": 4,
    "start_time": "2022-10-12T12:59:04.799Z"
   },
   {
    "duration": 30,
    "start_time": "2022-10-12T12:59:04.804Z"
   },
   {
    "duration": 8,
    "start_time": "2022-10-12T12:59:04.836Z"
   },
   {
    "duration": 19,
    "start_time": "2022-10-12T12:59:04.845Z"
   },
   {
    "duration": 5,
    "start_time": "2022-10-12T12:59:04.868Z"
   },
   {
    "duration": 41,
    "start_time": "2022-10-12T12:59:04.875Z"
   },
   {
    "duration": 9,
    "start_time": "2022-10-12T12:59:04.918Z"
   },
   {
    "duration": 36,
    "start_time": "2022-10-12T12:59:04.929Z"
   },
   {
    "duration": 22,
    "start_time": "2022-10-12T12:59:04.967Z"
   },
   {
    "duration": 45,
    "start_time": "2022-10-12T12:59:04.991Z"
   },
   {
    "duration": 18,
    "start_time": "2022-10-12T12:59:05.037Z"
   },
   {
    "duration": 8,
    "start_time": "2022-10-12T12:59:05.058Z"
   },
   {
    "duration": 21,
    "start_time": "2022-10-12T12:59:05.068Z"
   },
   {
    "duration": 29,
    "start_time": "2022-10-12T12:59:05.091Z"
   },
   {
    "duration": 11,
    "start_time": "2022-10-12T12:59:05.122Z"
   },
   {
    "duration": 23,
    "start_time": "2022-10-12T12:59:05.135Z"
   },
   {
    "duration": 37,
    "start_time": "2022-10-12T12:59:05.159Z"
   },
   {
    "duration": 37,
    "start_time": "2022-10-12T12:59:05.198Z"
   },
   {
    "duration": 66,
    "start_time": "2022-10-12T12:59:05.237Z"
   },
   {
    "duration": 16,
    "start_time": "2022-10-12T12:59:05.305Z"
   },
   {
    "duration": 9,
    "start_time": "2022-10-12T12:59:05.323Z"
   },
   {
    "duration": 30,
    "start_time": "2022-10-12T12:59:05.333Z"
   },
   {
    "duration": 55,
    "start_time": "2022-10-12T12:59:05.366Z"
   },
   {
    "duration": 34,
    "start_time": "2022-10-12T12:59:05.423Z"
   },
   {
    "duration": 14,
    "start_time": "2022-10-12T12:59:05.458Z"
   },
   {
    "duration": 13,
    "start_time": "2022-10-12T12:59:58.434Z"
   },
   {
    "duration": 458,
    "start_time": "2022-10-12T13:00:06.548Z"
   },
   {
    "duration": 23,
    "start_time": "2022-10-12T13:00:07.008Z"
   },
   {
    "duration": 20,
    "start_time": "2022-10-12T13:00:07.035Z"
   },
   {
    "duration": 11,
    "start_time": "2022-10-12T13:00:07.057Z"
   },
   {
    "duration": 58,
    "start_time": "2022-10-12T13:00:07.069Z"
   },
   {
    "duration": 4,
    "start_time": "2022-10-12T13:00:07.129Z"
   },
   {
    "duration": 21,
    "start_time": "2022-10-12T13:00:07.134Z"
   },
   {
    "duration": 17,
    "start_time": "2022-10-12T13:00:07.156Z"
   },
   {
    "duration": 31,
    "start_time": "2022-10-12T13:00:07.178Z"
   },
   {
    "duration": 9,
    "start_time": "2022-10-12T13:00:07.210Z"
   },
   {
    "duration": 50,
    "start_time": "2022-10-12T13:00:07.221Z"
   },
   {
    "duration": 11,
    "start_time": "2022-10-12T13:00:07.273Z"
   },
   {
    "duration": 16,
    "start_time": "2022-10-12T13:00:07.286Z"
   },
   {
    "duration": 21,
    "start_time": "2022-10-12T13:00:07.304Z"
   },
   {
    "duration": 25,
    "start_time": "2022-10-12T13:00:07.327Z"
   },
   {
    "duration": 17,
    "start_time": "2022-10-12T13:00:07.354Z"
   },
   {
    "duration": 3,
    "start_time": "2022-10-12T13:00:07.373Z"
   },
   {
    "duration": 22,
    "start_time": "2022-10-12T13:00:07.378Z"
   },
   {
    "duration": 19,
    "start_time": "2022-10-12T13:00:07.402Z"
   },
   {
    "duration": 10,
    "start_time": "2022-10-12T13:00:07.423Z"
   },
   {
    "duration": 20,
    "start_time": "2022-10-12T13:00:07.434Z"
   },
   {
    "duration": 9,
    "start_time": "2022-10-12T13:00:07.456Z"
   },
   {
    "duration": 15,
    "start_time": "2022-10-12T13:00:07.467Z"
   },
   {
    "duration": 61,
    "start_time": "2022-10-12T13:00:07.483Z"
   },
   {
    "duration": 17,
    "start_time": "2022-10-12T13:00:07.546Z"
   },
   {
    "duration": 5,
    "start_time": "2022-10-12T13:00:07.565Z"
   },
   {
    "duration": 9,
    "start_time": "2022-10-12T13:00:07.574Z"
   },
   {
    "duration": 34,
    "start_time": "2022-10-12T13:00:07.585Z"
   },
   {
    "duration": 24,
    "start_time": "2022-10-12T13:00:07.622Z"
   },
   {
    "duration": 15,
    "start_time": "2022-10-12T13:00:07.648Z"
   },
   {
    "duration": 14,
    "start_time": "2022-10-12T13:00:38.031Z"
   },
   {
    "duration": 15,
    "start_time": "2022-10-12T13:01:04.978Z"
   },
   {
    "duration": 3,
    "start_time": "2022-10-12T13:02:16.134Z"
   },
   {
    "duration": 14,
    "start_time": "2022-10-12T13:02:19.682Z"
   },
   {
    "duration": 16,
    "start_time": "2022-10-12T13:04:24.466Z"
   },
   {
    "duration": 17,
    "start_time": "2022-10-12T13:05:01.259Z"
   },
   {
    "duration": 490,
    "start_time": "2022-10-12T13:10:35.828Z"
   },
   {
    "duration": 25,
    "start_time": "2022-10-12T13:10:36.320Z"
   },
   {
    "duration": 32,
    "start_time": "2022-10-12T13:10:36.346Z"
   },
   {
    "duration": 15,
    "start_time": "2022-10-12T13:10:36.380Z"
   },
   {
    "duration": 44,
    "start_time": "2022-10-12T13:10:36.397Z"
   },
   {
    "duration": 3,
    "start_time": "2022-10-12T13:10:36.443Z"
   },
   {
    "duration": 39,
    "start_time": "2022-10-12T13:10:36.448Z"
   },
   {
    "duration": 10,
    "start_time": "2022-10-12T13:10:36.488Z"
   },
   {
    "duration": 13,
    "start_time": "2022-10-12T13:10:36.500Z"
   },
   {
    "duration": 9,
    "start_time": "2022-10-12T13:10:36.515Z"
   },
   {
    "duration": 42,
    "start_time": "2022-10-12T13:10:36.526Z"
   },
   {
    "duration": 10,
    "start_time": "2022-10-12T13:10:36.570Z"
   },
   {
    "duration": 12,
    "start_time": "2022-10-12T13:10:36.581Z"
   },
   {
    "duration": 18,
    "start_time": "2022-10-12T13:10:36.596Z"
   },
   {
    "duration": 40,
    "start_time": "2022-10-12T13:10:36.616Z"
   },
   {
    "duration": 18,
    "start_time": "2022-10-12T13:10:36.658Z"
   },
   {
    "duration": 4,
    "start_time": "2022-10-12T13:10:36.678Z"
   },
   {
    "duration": 17,
    "start_time": "2022-10-12T13:10:36.684Z"
   },
   {
    "duration": 21,
    "start_time": "2022-10-12T13:10:36.703Z"
   },
   {
    "duration": 33,
    "start_time": "2022-10-12T13:10:36.725Z"
   },
   {
    "duration": 25,
    "start_time": "2022-10-12T13:10:36.760Z"
   },
   {
    "duration": 9,
    "start_time": "2022-10-12T13:10:36.787Z"
   },
   {
    "duration": 25,
    "start_time": "2022-10-12T13:10:36.798Z"
   },
   {
    "duration": 49,
    "start_time": "2022-10-12T13:10:36.825Z"
   },
   {
    "duration": 20,
    "start_time": "2022-10-12T13:10:36.876Z"
   },
   {
    "duration": 23,
    "start_time": "2022-10-12T13:10:36.898Z"
   },
   {
    "duration": 4,
    "start_time": "2022-10-12T13:10:36.923Z"
   },
   {
    "duration": 25,
    "start_time": "2022-10-12T13:10:36.929Z"
   },
   {
    "duration": 20,
    "start_time": "2022-10-12T13:10:36.956Z"
   },
   {
    "duration": 3,
    "start_time": "2022-10-12T13:10:36.978Z"
   },
   {
    "duration": 17,
    "start_time": "2022-10-12T13:39:02.859Z"
   },
   {
    "duration": 570,
    "start_time": "2022-10-12T18:44:26.697Z"
   },
   {
    "duration": 24,
    "start_time": "2022-10-12T18:44:27.269Z"
   },
   {
    "duration": 14,
    "start_time": "2022-10-12T18:44:27.295Z"
   },
   {
    "duration": 8,
    "start_time": "2022-10-12T18:44:27.311Z"
   },
   {
    "duration": 32,
    "start_time": "2022-10-12T18:44:27.321Z"
   },
   {
    "duration": 3,
    "start_time": "2022-10-12T18:44:27.355Z"
   },
   {
    "duration": 13,
    "start_time": "2022-10-12T18:44:27.359Z"
   },
   {
    "duration": 13,
    "start_time": "2022-10-12T18:44:27.373Z"
   },
   {
    "duration": 27,
    "start_time": "2022-10-12T18:44:27.387Z"
   },
   {
    "duration": 5,
    "start_time": "2022-10-12T18:44:27.417Z"
   },
   {
    "duration": 34,
    "start_time": "2022-10-12T18:44:27.423Z"
   },
   {
    "duration": 9,
    "start_time": "2022-10-12T18:44:27.459Z"
   },
   {
    "duration": 6,
    "start_time": "2022-10-12T18:44:27.469Z"
   },
   {
    "duration": 33,
    "start_time": "2022-10-12T18:44:27.476Z"
   },
   {
    "duration": 20,
    "start_time": "2022-10-12T18:44:27.511Z"
   },
   {
    "duration": 17,
    "start_time": "2022-10-12T18:44:27.533Z"
   },
   {
    "duration": 4,
    "start_time": "2022-10-12T18:44:27.552Z"
   },
   {
    "duration": 15,
    "start_time": "2022-10-12T18:44:27.557Z"
   },
   {
    "duration": 5,
    "start_time": "2022-10-12T18:44:27.574Z"
   },
   {
    "duration": 4,
    "start_time": "2022-10-12T18:44:27.609Z"
   },
   {
    "duration": 13,
    "start_time": "2022-10-12T18:44:27.614Z"
   },
   {
    "duration": 9,
    "start_time": "2022-10-12T18:44:27.629Z"
   },
   {
    "duration": 12,
    "start_time": "2022-10-12T18:44:27.640Z"
   },
   {
    "duration": 54,
    "start_time": "2022-10-12T18:44:27.654Z"
   },
   {
    "duration": 17,
    "start_time": "2022-10-12T18:44:27.710Z"
   },
   {
    "duration": 4,
    "start_time": "2022-10-12T18:44:27.729Z"
   },
   {
    "duration": 7,
    "start_time": "2022-10-12T18:44:27.734Z"
   },
   {
    "duration": 16,
    "start_time": "2022-10-12T18:44:27.743Z"
   },
   {
    "duration": 15,
    "start_time": "2022-10-12T18:44:27.760Z"
   },
   {
    "duration": 45,
    "start_time": "2022-10-12T18:44:27.777Z"
   },
   {
    "duration": 519,
    "start_time": "2022-10-12T18:45:52.177Z"
   },
   {
    "duration": 26,
    "start_time": "2022-10-12T18:45:52.698Z"
   },
   {
    "duration": 30,
    "start_time": "2022-10-12T18:45:52.726Z"
   },
   {
    "duration": 25,
    "start_time": "2022-10-12T18:45:52.758Z"
   },
   {
    "duration": 65,
    "start_time": "2022-10-12T18:45:52.786Z"
   },
   {
    "duration": 4,
    "start_time": "2022-10-12T18:45:52.853Z"
   },
   {
    "duration": 42,
    "start_time": "2022-10-12T18:45:52.860Z"
   },
   {
    "duration": 10,
    "start_time": "2022-10-12T18:45:52.904Z"
   },
   {
    "duration": 33,
    "start_time": "2022-10-12T18:45:52.916Z"
   },
   {
    "duration": 16,
    "start_time": "2022-10-12T18:45:52.951Z"
   },
   {
    "duration": 63,
    "start_time": "2022-10-12T18:45:52.969Z"
   },
   {
    "duration": 9,
    "start_time": "2022-10-12T18:45:53.034Z"
   },
   {
    "duration": 16,
    "start_time": "2022-10-12T18:45:53.044Z"
   },
   {
    "duration": 30,
    "start_time": "2022-10-12T18:45:53.063Z"
   },
   {
    "duration": 54,
    "start_time": "2022-10-12T18:45:53.095Z"
   },
   {
    "duration": 17,
    "start_time": "2022-10-12T18:45:53.151Z"
   },
   {
    "duration": 4,
    "start_time": "2022-10-12T18:45:53.170Z"
   },
   {
    "duration": 14,
    "start_time": "2022-10-12T18:45:53.176Z"
   },
   {
    "duration": 7,
    "start_time": "2022-10-12T18:45:53.192Z"
   },
   {
    "duration": 9,
    "start_time": "2022-10-12T18:45:53.201Z"
   },
   {
    "duration": 15,
    "start_time": "2022-10-12T18:45:53.211Z"
   },
   {
    "duration": 4,
    "start_time": "2022-10-12T18:45:53.228Z"
   },
   {
    "duration": 15,
    "start_time": "2022-10-12T18:45:53.233Z"
   },
   {
    "duration": 34,
    "start_time": "2022-10-12T18:45:53.249Z"
   },
   {
    "duration": 36,
    "start_time": "2022-10-12T18:45:53.285Z"
   },
   {
    "duration": 4,
    "start_time": "2022-10-12T18:45:53.323Z"
   },
   {
    "duration": 3,
    "start_time": "2022-10-12T18:45:53.328Z"
   },
   {
    "duration": 19,
    "start_time": "2022-10-12T18:45:53.333Z"
   },
   {
    "duration": 18,
    "start_time": "2022-10-12T18:45:53.353Z"
   },
   {
    "duration": 16,
    "start_time": "2022-10-12T18:45:53.408Z"
   }
  ],
  "colab": {
   "name": "dpp_template_part2.ipynb",
   "provenance": []
  },
  "kernelspec": {
   "display_name": "Python 3 (ipykernel)",
   "language": "python",
   "name": "python3"
  },
  "language_info": {
   "codemirror_mode": {
    "name": "ipython",
    "version": 3
   },
   "file_extension": ".py",
   "mimetype": "text/x-python",
   "name": "python",
   "nbconvert_exporter": "python",
   "pygments_lexer": "ipython3",
   "version": "3.9.12"
  },
  "toc": {
   "base_numbering": 1,
   "nav_menu": {},
   "number_sections": true,
   "sideBar": true,
   "skip_h1_title": true,
   "title_cell": "Table of Contents",
   "title_sidebar": "Contents",
   "toc_cell": false,
   "toc_position": {},
   "toc_section_display": true,
   "toc_window_display": false
  }
 },
 "nbformat": 4,
 "nbformat_minor": 5
}
