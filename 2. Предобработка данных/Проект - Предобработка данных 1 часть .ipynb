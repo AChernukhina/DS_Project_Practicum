{
 "cells": [
  {
   "cell_type": "markdown",
   "id": "a1394f89",
   "metadata": {
    "deletable": false,
    "editable": false,
    "id": "c81daeeb"
   },
   "source": [
    "# Исследование надежности заемщиков"
   ]
  },
  {
   "cell_type": "markdown",
   "id": "4c92a2f5",
   "metadata": {
    "deletable": false,
    "editable": false,
    "id": "-G3EJWzf62s6"
   },
   "source": [
    "Это первая часть проекта, она будет проверена автоматически. Вторую часть проверит ревьюер. "
   ]
  },
  {
   "cell_type": "markdown",
   "id": "661174e1",
   "metadata": {},
   "source": [
    "Заказчик — кредитный отдел банка. Разберемся, влияет ли семейное положение и количество детей клиента на факт погашения кредита в срок. **Входные данные от банка** — статистика о платёжеспособности клиентов.\n",
    "\n",
    "Результаты исследования будут учтены при построении модели кредитного скоринга — специальной системы, которая оценивает способность потенциального заёмщика вернуть кредит банку.\n",
    "\n",
    "### Описание данных\n",
    "\tchildren — количество детей в семье\n",
    "\tdays_employed — общий трудовой стаж в днях\n",
    "\tdob_years — возраст клиента в годах\n",
    "\teducation — уровень образования клиента\n",
    "\teducation_id — идентификатор уровня образования\n",
    "\tfamily_status — семейное положение\n",
    "\tfamily_status_id — идентификатор семейного положения\n",
    "\tgender — пол клиента\n",
    "\tincome_type — тип занятости\n",
    "\tdebt — имел ли задолженность по возврату кредитов\n",
    "\ttotal_income — ежемесячный доход\n",
    "\tpurpose — цель получения кредита\n",
    "    "
   ]
  },
  {
   "cell_type": "markdown",
   "id": "fc93f7cc",
   "metadata": {
    "deletable": false,
    "editable": false,
    "id": "744d7639"
   },
   "source": [
    "## Откройте таблицу и изучите общую информацию о данных"
   ]
  },
  {
   "cell_type": "markdown",
   "id": "9da2a1e0",
   "metadata": {
    "deletable": false,
    "editable": false,
    "id": "e7a14c31",
    "tags": [
     "start_task"
    ]
   },
   "source": [
    "**Задание 1. Импортируйте библиотеку pandas. Считайте данные из csv-файла в датафрейм и сохраните в переменную `data`. Путь к файлу:**\n",
    "\n",
    "`/datasets/data.csv`"
   ]
  },
  {
   "cell_type": "code",
   "execution_count": 1,
   "id": "ba3043d5",
   "metadata": {
    "id": "7bcf75c9"
   },
   "outputs": [],
   "source": [
    "# импортируйте библиотеку pandas\n",
    "import pandas as pd"
   ]
  },
  {
   "cell_type": "code",
   "execution_count": 2,
   "id": "7dc24899",
   "metadata": {
    "id": "4d240ee2"
   },
   "outputs": [],
   "source": [
    "# прочитайте csv-файл\n",
    "data = pd.read_csv('datasets/data.csv')"
   ]
  },
  {
   "cell_type": "markdown",
   "id": "d18a7262",
   "metadata": {
    "deletable": false,
    "editable": false,
    "id": "b8038fe3",
    "tags": [
     "start_task"
    ]
   },
   "source": [
    "**Задание 2. Выведите первые 20 строчек датафрейма `data` на экран.**"
   ]
  },
  {
   "cell_type": "code",
   "execution_count": 3,
   "id": "3ede1d8a",
   "metadata": {
    "id": "2a7cab99"
   },
   "outputs": [
    {
     "name": "stdout",
     "output_type": "stream",
     "text": [
      "    children  days_employed  dob_years            education  education_id  \\\n",
      "0          1   -8437.673028         42               высшее             0   \n",
      "1          1   -4024.803754         36              среднее             1   \n",
      "2          0   -5623.422610         33              Среднее             1   \n",
      "3          3   -4124.747207         32              среднее             1   \n",
      "4          0  340266.072047         53              среднее             1   \n",
      "5          0    -926.185831         27               высшее             0   \n",
      "6          0   -2879.202052         43               высшее             0   \n",
      "7          0    -152.779569         50              СРЕДНЕЕ             1   \n",
      "8          2   -6929.865299         35               ВЫСШЕЕ             0   \n",
      "9          0   -2188.756445         41              среднее             1   \n",
      "10         2   -4171.483647         36               высшее             0   \n",
      "11         0    -792.701887         40              среднее             1   \n",
      "12         0            NaN         65              среднее             1   \n",
      "13         0   -1846.641941         54  неоконченное высшее             2   \n",
      "14         0   -1844.956182         56               высшее             0   \n",
      "15         1    -972.364419         26              среднее             1   \n",
      "16         0   -1719.934226         35              среднее             1   \n",
      "17         0   -2369.999720         33               высшее             0   \n",
      "18         0  400281.136913         53              среднее             1   \n",
      "19         0  -10038.818549         48              СРЕДНЕЕ             1   \n",
      "\n",
      "       family_status  family_status_id gender income_type  debt  \\\n",
      "0    женат / замужем                 0      F   сотрудник     0   \n",
      "1    женат / замужем                 0      F   сотрудник     0   \n",
      "2    женат / замужем                 0      M   сотрудник     0   \n",
      "3    женат / замужем                 0      M   сотрудник     0   \n",
      "4   гражданский брак                 1      F   пенсионер     0   \n",
      "5   гражданский брак                 1      M   компаньон     0   \n",
      "6    женат / замужем                 0      F   компаньон     0   \n",
      "7    женат / замужем                 0      M   сотрудник     0   \n",
      "8   гражданский брак                 1      F   сотрудник     0   \n",
      "9    женат / замужем                 0      M   сотрудник     0   \n",
      "10   женат / замужем                 0      M   компаньон     0   \n",
      "11   женат / замужем                 0      F   сотрудник     0   \n",
      "12  гражданский брак                 1      M   пенсионер     0   \n",
      "13   женат / замужем                 0      F   сотрудник     0   \n",
      "14  гражданский брак                 1      F   компаньон     1   \n",
      "15   женат / замужем                 0      F   сотрудник     0   \n",
      "16   женат / замужем                 0      F   сотрудник     0   \n",
      "17  гражданский брак                 1      M   сотрудник     0   \n",
      "18    вдовец / вдова                 2      F   пенсионер     0   \n",
      "19         в разводе                 3      F   сотрудник     0   \n",
      "\n",
      "     total_income                                 purpose  \n",
      "0   253875.639453                           покупка жилья  \n",
      "1   112080.014102                 приобретение автомобиля  \n",
      "2   145885.952297                           покупка жилья  \n",
      "3   267628.550329              дополнительное образование  \n",
      "4   158616.077870                         сыграть свадьбу  \n",
      "5   255763.565419                           покупка жилья  \n",
      "6   240525.971920                       операции с жильем  \n",
      "7   135823.934197                             образование  \n",
      "8    95856.832424                   на проведение свадьбы  \n",
      "9   144425.938277                 покупка жилья для семьи  \n",
      "10  113943.491460                    покупка недвижимости  \n",
      "11   77069.234271       покупка коммерческой недвижимости  \n",
      "12            NaN                         сыграть свадьбу  \n",
      "13  130458.228857                 приобретение автомобиля  \n",
      "14  165127.911772              покупка жилой недвижимости  \n",
      "15  116820.904450  строительство собственной недвижимости  \n",
      "16  289202.704229                            недвижимость  \n",
      "17   90410.586745              строительство недвижимости  \n",
      "18   56823.777243      на покупку подержанного автомобиля  \n",
      "19  242831.107982            на покупку своего автомобиля  \n"
     ]
    }
   ],
   "source": [
    "print(data.head(20))"
   ]
  },
  {
   "cell_type": "markdown",
   "id": "7fb8bdb8",
   "metadata": {
    "deletable": false,
    "editable": false,
    "id": "1c12e233",
    "tags": [
     "start_task"
    ]
   },
   "source": [
    "**Задание 3. Выведите основную информацию о датафрейме с помощью метода `info()`.**"
   ]
  },
  {
   "cell_type": "code",
   "execution_count": 4,
   "id": "fcdc37b5",
   "metadata": {
    "id": "2b757bca"
   },
   "outputs": [
    {
     "name": "stdout",
     "output_type": "stream",
     "text": [
      "<class 'pandas.core.frame.DataFrame'>\n",
      "RangeIndex: 21525 entries, 0 to 21524\n",
      "Data columns (total 12 columns):\n",
      " #   Column            Non-Null Count  Dtype  \n",
      "---  ------            --------------  -----  \n",
      " 0   children          21525 non-null  int64  \n",
      " 1   days_employed     19351 non-null  float64\n",
      " 2   dob_years         21525 non-null  int64  \n",
      " 3   education         21525 non-null  object \n",
      " 4   education_id      21525 non-null  int64  \n",
      " 5   family_status     21525 non-null  object \n",
      " 6   family_status_id  21525 non-null  int64  \n",
      " 7   gender            21525 non-null  object \n",
      " 8   income_type       21525 non-null  object \n",
      " 9   debt              21525 non-null  int64  \n",
      " 10  total_income      19351 non-null  float64\n",
      " 11  purpose           21525 non-null  object \n",
      "dtypes: float64(2), int64(5), object(5)\n",
      "memory usage: 2.0+ MB\n"
     ]
    }
   ],
   "source": [
    "data.info()"
   ]
  },
  {
   "cell_type": "markdown",
   "id": "d363beb3",
   "metadata": {
    "deletable": false,
    "editable": false,
    "id": "333ec665"
   },
   "source": [
    "## Предобработка данных"
   ]
  },
  {
   "cell_type": "markdown",
   "id": "6acc4052",
   "metadata": {
    "deletable": false,
    "editable": false,
    "id": "02d92d53"
   },
   "source": [
    "### Удаление пропусков"
   ]
  },
  {
   "cell_type": "markdown",
   "id": "2830ed1a",
   "metadata": {
    "deletable": false,
    "editable": false,
    "id": "cd84967c",
    "tags": [
     "start_task"
    ]
   },
   "source": [
    "**Задание 4. Выведите количество пропущенных значений для каждого столбца. Используйте комбинацию двух методов.**"
   ]
  },
  {
   "cell_type": "code",
   "execution_count": 5,
   "id": "59fd1211",
   "metadata": {
    "id": "7f9b2309"
   },
   "outputs": [
    {
     "name": "stdout",
     "output_type": "stream",
     "text": [
      "children               0\n",
      "days_employed       2174\n",
      "dob_years              0\n",
      "education              0\n",
      "education_id           0\n",
      "family_status          0\n",
      "family_status_id       0\n",
      "gender                 0\n",
      "income_type            0\n",
      "debt                   0\n",
      "total_income        2174\n",
      "purpose                0\n",
      "dtype: int64\n"
     ]
    }
   ],
   "source": [
    "print(data.isna().sum())"
   ]
  },
  {
   "cell_type": "markdown",
   "id": "1359c769",
   "metadata": {
    "deletable": false,
    "editable": false,
    "id": "db86e27b",
    "tags": [
     "start_task"
    ]
   },
   "source": [
    "**Задание 5. В двух столбцах есть пропущенные значения. Один из них — `days_employed`. Пропуски в этом столбце вы обработаете на следующем этапе. Другой столбец с пропущенными значениями — `total_income` — хранит данные о доходах. На сумму дохода сильнее всего влияет тип занятости, поэтому заполнить пропуски в этом столбце нужно медианным значением по каждому типу из столбца `income_type`. Например, у человека с типом занятости `сотрудник` пропуск в столбце `total_income` должен быть заполнен медианным доходом среди всех записей с тем же типом.**"
   ]
  },
  {
   "cell_type": "code",
   "execution_count": 6,
   "id": "313a4151",
   "metadata": {
    "id": "42006a93"
   },
   "outputs": [],
   "source": [
    "for d in data['income_type'].unique():\n",
    "    data.loc[(data['income_type'] == d) &\n",
    "             (data['total_income'].isna()),'total_income'] = data.loc[(data['income_type'] == d), \n",
    "                                                                      'total_income'].median()"
   ]
  },
  {
   "cell_type": "markdown",
   "id": "a1070e14",
   "metadata": {
    "deletable": false,
    "editable": false,
    "id": "89da5ece"
   },
   "source": [
    "### Обработка аномальных значений"
   ]
  },
  {
   "cell_type": "markdown",
   "id": "2b52bb03",
   "metadata": {
    "deletable": false,
    "editable": false,
    "id": "57964554",
    "tags": [
     "start_task"
    ]
   },
   "source": [
    "**Задание 6. В данных могут встречаться артефакты (аномалии) — значения, которые не отражают действительность и появились по какой-то ошибке. Таким артефактом будет отрицательное количество дней трудового стажа в столбце `days_employed`. Для реальных данных это нормально. Обработайте значения в этом столбце: замените все отрицательные значения положительными с помощью метода `abs()`.**"
   ]
  },
  {
   "cell_type": "code",
   "execution_count": 7,
   "id": "8647e878",
   "metadata": {
    "id": "f6f055bf"
   },
   "outputs": [],
   "source": [
    "data['days_employed'] = data['days_employed'].abs()"
   ]
  },
  {
   "cell_type": "markdown",
   "id": "669dde67",
   "metadata": {
    "deletable": false,
    "editable": false,
    "id": "6107dd2f",
    "tags": [
     "start_task"
    ]
   },
   "source": [
    "**Задание 7. Для каждого типа занятости выведите медианное значение трудового стажа `days_employed` в днях.**"
   ]
  },
  {
   "cell_type": "code",
   "execution_count": 8,
   "id": "3180e60a",
   "metadata": {
    "id": "85a5faf6"
   },
   "outputs": [
    {
     "name": "stdout",
     "output_type": "stream",
     "text": [
      "income_type\n",
      "безработный        366413.652744\n",
      "в декрете            3296.759962\n",
      "госслужащий          2689.368353\n",
      "компаньон            1547.382223\n",
      "пенсионер          365213.306266\n",
      "предприниматель       520.848083\n",
      "сотрудник            1574.202821\n",
      "студент               578.751554\n",
      "Name: days_employed, dtype: float64\n"
     ]
    }
   ],
   "source": [
    "print(data.groupby('income_type')['days_employed'].median())"
   ]
  },
  {
   "cell_type": "markdown",
   "id": "bb8a98e8",
   "metadata": {
    "deletable": false,
    "editable": false,
    "id": "38d1a030"
   },
   "source": [
    "У двух типов (безработные и пенсионеры) получатся аномально большие значения. Исправить такие значения сложно, поэтому оставьте их как есть. Тем более этот столбец не понадобится вам для исследования."
   ]
  },
  {
   "cell_type": "markdown",
   "id": "440b5294",
   "metadata": {
    "deletable": false,
    "editable": false,
    "id": "d8a9f147",
    "tags": [
     "start_task"
    ]
   },
   "source": [
    "**Задание 8. Выведите перечень уникальных значений столбца `children`.**"
   ]
  },
  {
   "cell_type": "code",
   "execution_count": 9,
   "id": "2052dd3c",
   "metadata": {
    "id": "ef5056eb"
   },
   "outputs": [
    {
     "name": "stdout",
     "output_type": "stream",
     "text": [
      "[ 1  0  3  2 -1  4 20  5]\n"
     ]
    }
   ],
   "source": [
    "print(data['children'].unique())"
   ]
  },
  {
   "cell_type": "markdown",
   "id": "957b85b1",
   "metadata": {
    "deletable": false,
    "editable": false,
    "id": "40b9ebf2",
    "tags": [
     "start_task"
    ]
   },
   "source": [
    "**Задание 9. В столбце `children` есть два аномальных значения. Удалите строки, в которых встречаются такие аномальные значения из датафрейма `data`.**"
   ]
  },
  {
   "cell_type": "code",
   "execution_count": 10,
   "id": "931748f0",
   "metadata": {
    "id": "3ff9801d"
   },
   "outputs": [],
   "source": [
    "data = data.drop(data[data['children'] == -1].index)\n",
    "data = data.drop(data[data['children'] == 20].index)"
   ]
  },
  {
   "cell_type": "markdown",
   "id": "db14ec51",
   "metadata": {
    "deletable": false,
    "editable": false,
    "id": "bbc4d0ce",
    "tags": [
     "start_task"
    ]
   },
   "source": [
    "**Задание 10. Ещё раз выведите перечень уникальных значений столбца `children`, чтобы убедиться, что артефакты удалены.**"
   ]
  },
  {
   "cell_type": "code",
   "execution_count": 11,
   "id": "1d0ac292",
   "metadata": {
    "id": "ad4fa8b7"
   },
   "outputs": [
    {
     "name": "stdout",
     "output_type": "stream",
     "text": [
      "[1 0 3 2 4 5]\n"
     ]
    }
   ],
   "source": [
    "print(data['children'].unique())"
   ]
  },
  {
   "cell_type": "markdown",
   "id": "05673337",
   "metadata": {
    "deletable": false,
    "editable": false,
    "id": "75440b63"
   },
   "source": [
    "### Удаление пропусков (продолжение)"
   ]
  },
  {
   "cell_type": "markdown",
   "id": "01254cfd",
   "metadata": {
    "deletable": false,
    "editable": false,
    "id": "f4ea573f",
    "tags": [
     "start_task"
    ]
   },
   "source": [
    "**Задание 11. Заполните пропуски в столбце `days_employed` медианными значениями по каждому типу занятости `income_type`.**"
   ]
  },
  {
   "cell_type": "code",
   "execution_count": 12,
   "id": "5afa172d",
   "metadata": {
    "id": "af6b1a7e"
   },
   "outputs": [],
   "source": [
    "for d in data['income_type'].unique():\n",
    "    data.loc[(data['income_type'] == d) &\n",
    "             (data['days_employed'].isna()),'days_employed'] = data.loc[(data['income_type'] == d), \n",
    "                                                                        'days_employed'].median()"
   ]
  },
  {
   "cell_type": "markdown",
   "id": "26627cde",
   "metadata": {
    "deletable": false,
    "editable": false,
    "id": "2753f40d",
    "tags": [
     "start_task"
    ]
   },
   "source": [
    "**Задание 12. Убедитесь, что все пропуски заполнены. Проверьте себя и ещё раз выведите количество пропущенных значений для каждого столбца с помощью двух методов.**"
   ]
  },
  {
   "cell_type": "code",
   "execution_count": 13,
   "id": "91122c84",
   "metadata": {
    "id": "55f78bc2"
   },
   "outputs": [
    {
     "name": "stdout",
     "output_type": "stream",
     "text": [
      "children            0\n",
      "days_employed       0\n",
      "dob_years           0\n",
      "education           0\n",
      "education_id        0\n",
      "family_status       0\n",
      "family_status_id    0\n",
      "gender              0\n",
      "income_type         0\n",
      "debt                0\n",
      "total_income        0\n",
      "purpose             0\n",
      "dtype: int64\n"
     ]
    }
   ],
   "source": [
    "print(data.isna().sum())"
   ]
  },
  {
   "cell_type": "markdown",
   "id": "77c910d2",
   "metadata": {
    "deletable": false,
    "editable": false,
    "id": "ddc81e43"
   },
   "source": [
    "### Изменение типов данных"
   ]
  },
  {
   "cell_type": "markdown",
   "id": "4c2b92ab",
   "metadata": {
    "deletable": false,
    "editable": false,
    "id": "42d19d24",
    "tags": [
     "start_task"
    ]
   },
   "source": [
    "**Задание 13. Замените вещественный тип данных в столбце `total_income` на целочисленный с помощью метода `astype()`.**"
   ]
  },
  {
   "cell_type": "code",
   "execution_count": 14,
   "id": "febb84f6",
   "metadata": {
    "id": "920b65ad"
   },
   "outputs": [],
   "source": [
    "data['total_income'] = data['total_income'].astype('int')"
   ]
  },
  {
   "cell_type": "markdown",
   "id": "9f37f683",
   "metadata": {
    "deletable": false,
    "editable": false,
    "id": "80c420ba"
   },
   "source": [
    "### Обработка дубликатов"
   ]
  },
  {
   "cell_type": "markdown",
   "id": "e06a287f",
   "metadata": {
    "deletable": false,
    "editable": false,
    "tags": [
     "start_task"
    ]
   },
   "source": [
    "**Задание 14. Обработайте неявные дубликаты в столбце `education`. В этом столбце есть одни и те же значения, но записанные по-разному: с использованием заглавных и строчных букв. Приведите их к нижнему регистру. Проверьте остальные столбцы.**"
   ]
  },
  {
   "cell_type": "code",
   "execution_count": 15,
   "id": "8204c9ae",
   "metadata": {},
   "outputs": [],
   "source": [
    "data['education'] = data['education'].str.lower()"
   ]
  },
  {
   "cell_type": "markdown",
   "id": "701b2e2f",
   "metadata": {
    "deletable": false,
    "editable": false,
    "id": "dc587695",
    "tags": [
     "start_task"
    ]
   },
   "source": [
    "**Задание 15. Выведите на экран количество строк-дубликатов в данных. Если такие строки присутствуют, удалите их.**"
   ]
  },
  {
   "cell_type": "code",
   "execution_count": 16,
   "id": "f8194319",
   "metadata": {
    "id": "3ee445e4"
   },
   "outputs": [
    {
     "name": "stdout",
     "output_type": "stream",
     "text": [
      "71\n"
     ]
    }
   ],
   "source": [
    "print(data.duplicated().sum())"
   ]
  },
  {
   "cell_type": "code",
   "execution_count": 17,
   "id": "b923056a",
   "metadata": {
    "id": "8575fe05"
   },
   "outputs": [],
   "source": [
    "data = data.drop_duplicates(keep='first')"
   ]
  },
  {
   "cell_type": "markdown",
   "id": "7986c9d5",
   "metadata": {
    "deletable": false,
    "editable": false,
    "id": "9904cf55"
   },
   "source": [
    "### Категоризация данных"
   ]
  },
  {
   "cell_type": "markdown",
   "id": "487fbb00",
   "metadata": {
    "deletable": false,
    "editable": false,
    "id": "72fcc8a2",
    "tags": [
     "start_task"
    ]
   },
   "source": [
    "**Задание 16. На основании диапазонов, указанных ниже, создайте в датафрейме `data` столбец `total_income_category` с категориями:**\n",
    "\n",
    "- 0–30000 — `'E'`;\n",
    "- 30001–50000 — `'D'`;\n",
    "- 50001–200000 — `'C'`;\n",
    "- 200001–1000000 — `'B'`;\n",
    "- 1000001 и выше — `'A'`.\n",
    "\n",
    "\n",
    "**Например, кредитополучателю с доходом 25000 нужно назначить категорию `'E'`, а клиенту, получающему 235000, — `'B'`. Используйте собственную функцию с именем `categorize_income()` и метод `apply()`.**"
   ]
  },
  {
   "cell_type": "code",
   "execution_count": 18,
   "id": "3d78e5eb",
   "metadata": {
    "id": "e1771346"
   },
   "outputs": [],
   "source": [
    "# создадим функцию categorize_income()\n",
    "def categorize_income(total_income):\n",
    "    if total_income <= 30000:\n",
    "        return 'E'\n",
    "    if total_income <= 50000:\n",
    "        return 'D'\n",
    "    if total_income <= 200000:\n",
    "        return 'C'\n",
    "    if total_income <= 1000000:\n",
    "        return 'B'\n",
    "    return 'A'"
   ]
  },
  {
   "cell_type": "code",
   "execution_count": 19,
   "id": "cb4ad0cf",
   "metadata": {
    "id": "d5f3586d"
   },
   "outputs": [],
   "source": [
    "# применим функцию методом apply()\n",
    "data['total_income_category'] = data['total_income'].apply(categorize_income)"
   ]
  },
  {
   "cell_type": "markdown",
   "id": "d5e40cc9",
   "metadata": {
    "deletable": false,
    "editable": false,
    "id": "dde49b5c",
    "tags": [
     "start_task"
    ]
   },
   "source": [
    "**Задание 17. Выведите на экран перечень уникальных целей взятия кредита из столбца `purpose`.**"
   ]
  },
  {
   "cell_type": "code",
   "execution_count": 20,
   "id": "14f7df07",
   "metadata": {
    "id": "f67ce9b3"
   },
   "outputs": [
    {
     "name": "stdout",
     "output_type": "stream",
     "text": [
      "['покупка жилья' 'приобретение автомобиля' 'дополнительное образование'\n",
      " 'сыграть свадьбу' 'операции с жильем' 'образование'\n",
      " 'на проведение свадьбы' 'покупка жилья для семьи' 'покупка недвижимости'\n",
      " 'покупка коммерческой недвижимости' 'покупка жилой недвижимости'\n",
      " 'строительство собственной недвижимости' 'недвижимость'\n",
      " 'строительство недвижимости' 'на покупку подержанного автомобиля'\n",
      " 'на покупку своего автомобиля' 'операции с коммерческой недвижимостью'\n",
      " 'строительство жилой недвижимости' 'жилье'\n",
      " 'операции со своей недвижимостью' 'автомобили' 'заняться образованием'\n",
      " 'сделка с подержанным автомобилем' 'получение образования' 'автомобиль'\n",
      " 'свадьба' 'получение дополнительного образования' 'покупка своего жилья'\n",
      " 'операции с недвижимостью' 'получение высшего образования'\n",
      " 'свой автомобиль' 'сделка с автомобилем' 'профильное образование'\n",
      " 'высшее образование' 'покупка жилья для сдачи' 'на покупку автомобиля'\n",
      " 'ремонт жилью' 'заняться высшим образованием']\n"
     ]
    }
   ],
   "source": [
    "print(data['purpose'].unique())"
   ]
  },
  {
   "cell_type": "markdown",
   "id": "f5a6de7b",
   "metadata": {
    "deletable": false,
    "editable": false,
    "id": "85d0aef0",
    "tags": [
     "start_task"
    ]
   },
   "source": [
    "**Задание 18. Создайте функцию, которая на основании данных из столбца `purpose` сформирует новый столбец `purpose_category`, в который войдут следующие категории:**\n",
    "\n",
    "- `'операции с автомобилем'`,\n",
    "- `'операции с недвижимостью'`,\n",
    "- `'проведение свадьбы'`,\n",
    "- `'получение образования'`.\n",
    "\n",
    "**Например, если в столбце `purpose` находится подстрока `'на покупку автомобиля'`, то в столбце `purpose_category` должна появиться строка `'операции с автомобилем'`.**\n",
    "\n",
    "**Используйте собственную функцию с именем `categorize_purpose()` и метод `apply()`. Изучите данные в столбце `purpose` и определите, какие подстроки помогут вам правильно определить категорию.**"
   ]
  },
  {
   "cell_type": "code",
   "execution_count": 21,
   "id": "ac5e8551",
   "metadata": {
    "id": "e149fab4"
   },
   "outputs": [],
   "source": [
    "# создадим функцию categorize_purpose()\n",
    "\n",
    "def categorize_purpose(row):\n",
    "    purpose = row['purpose']\n",
    "    if 'жиль' in purpose or 'недвиж' in purpose:\n",
    "        return 'операции с недвижимостью'\n",
    "    if 'автомоб' in purpose:\n",
    "        return 'операции с автомобилем'\n",
    "    if 'свадь' in purpose:\n",
    "        return 'проведение свадьбы'\n",
    "    if 'образов' in purpose:\n",
    "        return 'получение образования'"
   ]
  },
  {
   "cell_type": "code",
   "execution_count": 22,
   "id": "771f508f",
   "metadata": {
    "id": "bf36e69b"
   },
   "outputs": [],
   "source": [
    "# применим функцию методом apply()\n",
    "data['purpose_category'] = data.apply(categorize_purpose, axis = 1)"
   ]
  }
 ],
 "metadata": {
  "ExecuteTimeLog": [
   {
    "duration": 413,
    "start_time": "2022-10-10T10:14:55.831Z"
   },
   {
    "duration": 342,
    "start_time": "2022-10-10T10:14:56.246Z"
   },
   {
    "duration": 12,
    "start_time": "2022-10-10T10:14:56.590Z"
   },
   {
    "duration": 2,
    "start_time": "2022-10-10T10:59:57.709Z"
   },
   {
    "duration": 153,
    "start_time": "2022-10-10T10:59:57.713Z"
   },
   {
    "duration": 9,
    "start_time": "2022-10-10T10:59:57.867Z"
   },
   {
    "duration": 47,
    "start_time": "2022-10-10T10:59:57.878Z"
   },
   {
    "duration": 14,
    "start_time": "2022-10-10T10:59:57.927Z"
   },
   {
    "duration": 2,
    "start_time": "2022-10-10T11:00:17.180Z"
   },
   {
    "duration": 80,
    "start_time": "2022-10-10T11:00:17.184Z"
   },
   {
    "duration": 8,
    "start_time": "2022-10-10T11:00:17.265Z"
   },
   {
    "duration": 14,
    "start_time": "2022-10-10T11:00:17.275Z"
   },
   {
    "duration": 9,
    "start_time": "2022-10-10T11:00:17.290Z"
   },
   {
    "duration": 141,
    "start_time": "2022-10-10T11:01:27.130Z"
   },
   {
    "duration": 99,
    "start_time": "2022-10-10T11:02:14.358Z"
   },
   {
    "duration": 70,
    "start_time": "2022-10-10T11:02:30.343Z"
   },
   {
    "duration": 66,
    "start_time": "2022-10-10T11:02:56.035Z"
   },
   {
    "duration": 72,
    "start_time": "2022-10-10T11:03:54.580Z"
   },
   {
    "duration": 8,
    "start_time": "2022-10-10T11:10:42.260Z"
   },
   {
    "duration": 8,
    "start_time": "2022-10-10T11:15:11.524Z"
   },
   {
    "duration": 7,
    "start_time": "2022-10-10T11:15:26.643Z"
   },
   {
    "duration": 8,
    "start_time": "2022-10-10T11:18:12.595Z"
   },
   {
    "duration": 10,
    "start_time": "2022-10-10T11:18:21.418Z"
   },
   {
    "duration": 3,
    "start_time": "2022-10-10T12:28:48.310Z"
   },
   {
    "duration": 72,
    "start_time": "2022-10-10T12:28:48.314Z"
   },
   {
    "duration": 8,
    "start_time": "2022-10-10T12:28:48.387Z"
   },
   {
    "duration": 16,
    "start_time": "2022-10-10T12:28:48.397Z"
   },
   {
    "duration": 9,
    "start_time": "2022-10-10T12:28:48.415Z"
   },
   {
    "duration": 37,
    "start_time": "2022-10-10T12:28:48.426Z"
   },
   {
    "duration": 4,
    "start_time": "2022-10-10T12:28:48.464Z"
   },
   {
    "duration": 3,
    "start_time": "2022-10-10T12:35:04.175Z"
   },
   {
    "duration": 85,
    "start_time": "2022-10-10T12:35:04.181Z"
   },
   {
    "duration": 8,
    "start_time": "2022-10-10T12:35:04.268Z"
   },
   {
    "duration": 20,
    "start_time": "2022-10-10T12:35:04.277Z"
   },
   {
    "duration": 7,
    "start_time": "2022-10-10T12:35:04.300Z"
   },
   {
    "duration": 38,
    "start_time": "2022-10-10T12:35:04.309Z"
   },
   {
    "duration": 3,
    "start_time": "2022-10-10T12:35:04.349Z"
   },
   {
    "duration": 3,
    "start_time": "2022-10-10T12:35:10.656Z"
   },
   {
    "duration": 74,
    "start_time": "2022-10-10T12:35:10.661Z"
   },
   {
    "duration": 8,
    "start_time": "2022-10-10T12:35:10.736Z"
   },
   {
    "duration": 16,
    "start_time": "2022-10-10T12:35:10.746Z"
   },
   {
    "duration": 8,
    "start_time": "2022-10-10T12:35:10.764Z"
   },
   {
    "duration": 43,
    "start_time": "2022-10-10T12:35:10.773Z"
   },
   {
    "duration": 7,
    "start_time": "2022-10-10T12:35:15.453Z"
   },
   {
    "duration": 3,
    "start_time": "2022-10-10T12:36:49.188Z"
   },
   {
    "duration": 76,
    "start_time": "2022-10-10T12:36:49.193Z"
   },
   {
    "duration": 8,
    "start_time": "2022-10-10T12:36:49.271Z"
   },
   {
    "duration": 22,
    "start_time": "2022-10-10T12:36:49.281Z"
   },
   {
    "duration": 9,
    "start_time": "2022-10-10T12:36:49.306Z"
   },
   {
    "duration": 35,
    "start_time": "2022-10-10T12:36:49.317Z"
   },
   {
    "duration": 3,
    "start_time": "2022-10-10T12:36:49.354Z"
   },
   {
    "duration": 8,
    "start_time": "2022-10-10T12:36:49.360Z"
   },
   {
    "duration": 3,
    "start_time": "2022-10-10T12:36:55.020Z"
   },
   {
    "duration": 2,
    "start_time": "2022-10-10T12:45:37.498Z"
   },
   {
    "duration": 71,
    "start_time": "2022-10-10T12:45:37.501Z"
   },
   {
    "duration": 7,
    "start_time": "2022-10-10T12:45:37.574Z"
   },
   {
    "duration": 15,
    "start_time": "2022-10-10T12:45:37.583Z"
   },
   {
    "duration": 8,
    "start_time": "2022-10-10T12:45:37.599Z"
   },
   {
    "duration": 30,
    "start_time": "2022-10-10T12:45:37.609Z"
   },
   {
    "duration": 3,
    "start_time": "2022-10-10T12:45:37.641Z"
   },
   {
    "duration": 8,
    "start_time": "2022-10-10T12:45:37.645Z"
   },
   {
    "duration": 3,
    "start_time": "2022-10-10T12:45:37.655Z"
   },
   {
    "duration": 12,
    "start_time": "2022-10-10T12:45:44.072Z"
   },
   {
    "duration": 2,
    "start_time": "2022-10-10T12:45:48.377Z"
   },
   {
    "duration": 96,
    "start_time": "2022-10-10T12:45:48.381Z"
   },
   {
    "duration": 7,
    "start_time": "2022-10-10T12:45:48.479Z"
   },
   {
    "duration": 31,
    "start_time": "2022-10-10T12:45:48.488Z"
   },
   {
    "duration": 49,
    "start_time": "2022-10-10T12:45:48.522Z"
   },
   {
    "duration": 54,
    "start_time": "2022-10-10T12:45:48.573Z"
   },
   {
    "duration": 3,
    "start_time": "2022-10-10T12:45:48.629Z"
   },
   {
    "duration": 35,
    "start_time": "2022-10-10T12:45:48.634Z"
   },
   {
    "duration": 52,
    "start_time": "2022-10-10T12:45:48.671Z"
   },
   {
    "duration": 12,
    "start_time": "2022-10-10T12:45:52.177Z"
   },
   {
    "duration": 2,
    "start_time": "2022-10-10T13:10:48.214Z"
   },
   {
    "duration": 71,
    "start_time": "2022-10-10T13:10:48.218Z"
   },
   {
    "duration": 9,
    "start_time": "2022-10-10T13:10:48.291Z"
   },
   {
    "duration": 19,
    "start_time": "2022-10-10T13:10:48.301Z"
   },
   {
    "duration": 7,
    "start_time": "2022-10-10T13:10:48.322Z"
   },
   {
    "duration": 33,
    "start_time": "2022-10-10T13:10:48.331Z"
   },
   {
    "duration": 2,
    "start_time": "2022-10-10T13:10:48.366Z"
   },
   {
    "duration": 17,
    "start_time": "2022-10-10T13:10:48.370Z"
   },
   {
    "duration": 6,
    "start_time": "2022-10-10T13:10:48.388Z"
   },
   {
    "duration": 10,
    "start_time": "2022-10-10T13:10:51.285Z"
   },
   {
    "duration": 9,
    "start_time": "2022-10-10T13:10:55.846Z"
   },
   {
    "duration": 2,
    "start_time": "2022-10-10T13:10:59.459Z"
   },
   {
    "duration": 74,
    "start_time": "2022-10-10T13:10:59.463Z"
   },
   {
    "duration": 7,
    "start_time": "2022-10-10T13:10:59.539Z"
   },
   {
    "duration": 16,
    "start_time": "2022-10-10T13:10:59.548Z"
   },
   {
    "duration": 8,
    "start_time": "2022-10-10T13:10:59.567Z"
   },
   {
    "duration": 49,
    "start_time": "2022-10-10T13:10:59.577Z"
   },
   {
    "duration": 3,
    "start_time": "2022-10-10T13:10:59.628Z"
   },
   {
    "duration": 9,
    "start_time": "2022-10-10T13:10:59.632Z"
   },
   {
    "duration": 5,
    "start_time": "2022-10-10T13:10:59.642Z"
   },
   {
    "duration": 14,
    "start_time": "2022-10-10T13:11:02.535Z"
   },
   {
    "duration": 2,
    "start_time": "2022-10-10T13:15:22.269Z"
   },
   {
    "duration": 70,
    "start_time": "2022-10-10T13:15:22.272Z"
   },
   {
    "duration": 11,
    "start_time": "2022-10-10T13:15:22.343Z"
   },
   {
    "duration": 24,
    "start_time": "2022-10-10T13:15:22.356Z"
   },
   {
    "duration": 7,
    "start_time": "2022-10-10T13:15:22.383Z"
   },
   {
    "duration": 33,
    "start_time": "2022-10-10T13:15:22.391Z"
   },
   {
    "duration": 3,
    "start_time": "2022-10-10T13:15:22.426Z"
   },
   {
    "duration": 10,
    "start_time": "2022-10-10T13:15:22.430Z"
   },
   {
    "duration": 8,
    "start_time": "2022-10-10T13:15:22.443Z"
   },
   {
    "duration": 13,
    "start_time": "2022-10-10T13:15:22.453Z"
   },
   {
    "duration": 4,
    "start_time": "2022-10-10T13:15:25.431Z"
   },
   {
    "duration": 3,
    "start_time": "2022-10-10T14:18:15.066Z"
   },
   {
    "duration": 71,
    "start_time": "2022-10-10T14:18:15.070Z"
   },
   {
    "duration": 7,
    "start_time": "2022-10-10T14:18:15.143Z"
   },
   {
    "duration": 15,
    "start_time": "2022-10-10T14:18:15.152Z"
   },
   {
    "duration": 8,
    "start_time": "2022-10-10T14:18:15.169Z"
   },
   {
    "duration": 41,
    "start_time": "2022-10-10T14:18:15.179Z"
   },
   {
    "duration": 3,
    "start_time": "2022-10-10T14:18:15.222Z"
   },
   {
    "duration": 8,
    "start_time": "2022-10-10T14:18:15.227Z"
   },
   {
    "duration": 4,
    "start_time": "2022-10-10T14:18:15.237Z"
   },
   {
    "duration": 10,
    "start_time": "2022-10-10T14:18:15.242Z"
   },
   {
    "duration": 4,
    "start_time": "2022-10-10T14:18:15.253Z"
   },
   {
    "duration": 64,
    "start_time": "2022-10-10T14:18:15.258Z"
   },
   {
    "duration": 8,
    "start_time": "2022-10-10T14:18:15.323Z"
   },
   {
    "duration": 3,
    "start_time": "2022-10-10T14:18:15.333Z"
   },
   {
    "duration": 11,
    "start_time": "2022-10-10T14:18:19.850Z"
   },
   {
    "duration": 3,
    "start_time": "2022-10-10T14:18:36.781Z"
   },
   {
    "duration": 72,
    "start_time": "2022-10-10T14:18:36.785Z"
   },
   {
    "duration": 10,
    "start_time": "2022-10-10T14:18:36.859Z"
   },
   {
    "duration": 31,
    "start_time": "2022-10-10T14:18:36.870Z"
   },
   {
    "duration": 8,
    "start_time": "2022-10-10T14:18:36.904Z"
   },
   {
    "duration": 30,
    "start_time": "2022-10-10T14:18:36.913Z"
   },
   {
    "duration": 3,
    "start_time": "2022-10-10T14:18:36.944Z"
   },
   {
    "duration": 8,
    "start_time": "2022-10-10T14:18:36.949Z"
   },
   {
    "duration": 4,
    "start_time": "2022-10-10T14:18:36.958Z"
   },
   {
    "duration": 9,
    "start_time": "2022-10-10T14:18:36.964Z"
   },
   {
    "duration": 3,
    "start_time": "2022-10-10T14:18:36.974Z"
   },
   {
    "duration": 31,
    "start_time": "2022-10-10T14:18:37.009Z"
   },
   {
    "duration": 9,
    "start_time": "2022-10-10T14:18:37.041Z"
   },
   {
    "duration": 5,
    "start_time": "2022-10-10T14:18:37.052Z"
   },
   {
    "duration": 10,
    "start_time": "2022-10-10T14:18:44.666Z"
   },
   {
    "duration": 38,
    "start_time": "2022-10-10T14:19:32.204Z"
   },
   {
    "duration": 8,
    "start_time": "2022-10-10T14:20:54.547Z"
   },
   {
    "duration": 22,
    "start_time": "2022-10-10T14:33:13.998Z"
   },
   {
    "duration": 5,
    "start_time": "2022-10-10T14:54:33.962Z"
   },
   {
    "duration": 4,
    "start_time": "2022-10-10T15:42:55.565Z"
   },
   {
    "duration": 2,
    "start_time": "2022-10-10T15:43:00.345Z"
   },
   {
    "duration": 86,
    "start_time": "2022-10-10T15:43:00.349Z"
   },
   {
    "duration": 8,
    "start_time": "2022-10-10T15:43:00.436Z"
   },
   {
    "duration": 28,
    "start_time": "2022-10-10T15:43:00.445Z"
   },
   {
    "duration": 8,
    "start_time": "2022-10-10T15:43:00.475Z"
   },
   {
    "duration": 40,
    "start_time": "2022-10-10T15:43:00.485Z"
   },
   {
    "duration": 3,
    "start_time": "2022-10-10T15:43:00.526Z"
   },
   {
    "duration": 15,
    "start_time": "2022-10-10T15:43:00.530Z"
   },
   {
    "duration": 8,
    "start_time": "2022-10-10T15:43:00.547Z"
   },
   {
    "duration": 29,
    "start_time": "2022-10-10T15:43:00.556Z"
   },
   {
    "duration": 20,
    "start_time": "2022-10-10T15:43:00.586Z"
   },
   {
    "duration": 56,
    "start_time": "2022-10-10T15:43:00.607Z"
   },
   {
    "duration": 8,
    "start_time": "2022-10-10T15:43:00.664Z"
   },
   {
    "duration": 34,
    "start_time": "2022-10-10T15:43:00.674Z"
   },
   {
    "duration": 33,
    "start_time": "2022-10-10T15:43:00.709Z"
   },
   {
    "duration": 53,
    "start_time": "2022-10-10T15:43:00.744Z"
   },
   {
    "duration": 67,
    "start_time": "2022-10-10T15:43:00.799Z"
   },
   {
    "duration": 3,
    "start_time": "2022-10-10T15:43:00.868Z"
   },
   {
    "duration": 48,
    "start_time": "2022-10-10T15:43:00.873Z"
   },
   {
    "duration": 47,
    "start_time": "2022-10-10T15:43:00.923Z"
   },
   {
    "duration": 54,
    "start_time": "2022-10-10T15:43:00.971Z"
   },
   {
    "duration": 3,
    "start_time": "2022-10-10T15:43:03.202Z"
   },
   {
    "duration": 3,
    "start_time": "2022-10-10T15:43:32.852Z"
   },
   {
    "duration": 2,
    "start_time": "2022-10-10T15:43:45.519Z"
   },
   {
    "duration": 74,
    "start_time": "2022-10-10T15:43:45.524Z"
   },
   {
    "duration": 8,
    "start_time": "2022-10-10T15:43:45.600Z"
   },
   {
    "duration": 15,
    "start_time": "2022-10-10T15:43:45.609Z"
   },
   {
    "duration": 8,
    "start_time": "2022-10-10T15:43:45.626Z"
   },
   {
    "duration": 31,
    "start_time": "2022-10-10T15:43:45.635Z"
   },
   {
    "duration": 3,
    "start_time": "2022-10-10T15:43:45.667Z"
   },
   {
    "duration": 11,
    "start_time": "2022-10-10T15:43:45.671Z"
   },
   {
    "duration": 25,
    "start_time": "2022-10-10T15:43:45.684Z"
   },
   {
    "duration": 8,
    "start_time": "2022-10-10T15:43:45.710Z"
   },
   {
    "duration": 2,
    "start_time": "2022-10-10T15:43:45.720Z"
   },
   {
    "duration": 35,
    "start_time": "2022-10-10T15:43:45.724Z"
   },
   {
    "duration": 7,
    "start_time": "2022-10-10T15:43:45.761Z"
   },
   {
    "duration": 3,
    "start_time": "2022-10-10T15:43:45.771Z"
   },
   {
    "duration": 14,
    "start_time": "2022-10-10T15:43:45.775Z"
   },
   {
    "duration": 25,
    "start_time": "2022-10-10T15:43:45.809Z"
   },
   {
    "duration": 18,
    "start_time": "2022-10-10T15:43:45.835Z"
   },
   {
    "duration": 3,
    "start_time": "2022-10-10T15:43:45.854Z"
   },
   {
    "duration": 17,
    "start_time": "2022-10-10T15:43:45.858Z"
   },
   {
    "duration": 8,
    "start_time": "2022-10-10T15:43:45.876Z"
   },
   {
    "duration": 3,
    "start_time": "2022-10-10T15:43:45.886Z"
   }
  ],
  "colab": {
   "name": "dpp_template_part1.ipynb",
   "provenance": []
  },
  "kernelspec": {
   "display_name": "Python 3 (ipykernel)",
   "language": "python",
   "name": "python3"
  },
  "language_info": {
   "codemirror_mode": {
    "name": "ipython",
    "version": 3
   },
   "file_extension": ".py",
   "mimetype": "text/x-python",
   "name": "python",
   "nbconvert_exporter": "python",
   "pygments_lexer": "ipython3",
   "version": "3.9.12"
  },
  "toc": {
   "base_numbering": 1,
   "nav_menu": {},
   "number_sections": true,
   "sideBar": true,
   "skip_h1_title": true,
   "title_cell": "Table of Contents",
   "title_sidebar": "Contents",
   "toc_cell": false,
   "toc_position": {},
   "toc_section_display": true,
   "toc_window_display": false
  }
 },
 "nbformat": 4,
 "nbformat_minor": 5
}
